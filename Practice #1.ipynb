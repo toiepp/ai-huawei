{
 "cells": [
  {
   "cell_type": "markdown",
   "id": "57519905",
   "metadata": {},
   "source": [
    "# 1"
   ]
  },
  {
   "cell_type": "markdown",
   "id": "eda75607",
   "metadata": {},
   "source": [
    "## 1.1"
   ]
  },
  {
   "cell_type": "code",
   "execution_count": 1,
   "id": "95e0550a",
   "metadata": {},
   "outputs": [
    {
     "name": "stdout",
     "output_type": "stream",
     "text": [
      "hello world\n",
      "hello world\n",
      "hello\n",
      "\n",
      "world\n"
     ]
    }
   ],
   "source": [
    "print('hello world')\n",
    "print(\"hello world\")\n",
    "print(\"\"\"hello\n",
    "\n",
    "world\"\"\")"
   ]
  },
  {
   "cell_type": "markdown",
   "id": "65786c1f",
   "metadata": {},
   "source": [
    "## 1.2"
   ]
  },
  {
   "cell_type": "code",
   "execution_count": 2,
   "id": "4c4efdec",
   "metadata": {},
   "outputs": [
    {
     "name": "stdout",
     "output_type": "stream",
     "text": [
      "hello\n"
     ]
    }
   ],
   "source": [
    "#comment\n",
    "\n",
    "\"\"\"\n",
    "triple comment\n",
    "\"\"\"\n",
    "\n",
    "print(\"hello\")"
   ]
  },
  {
   "cell_type": "markdown",
   "id": "b9bf10b9",
   "metadata": {},
   "source": [
    "## 1.3"
   ]
  },
  {
   "cell_type": "code",
   "execution_count": 3,
   "id": "be934f3d",
   "metadata": {},
   "outputs": [
    {
     "data": {
      "text/plain": [
       "'/home/mikholskiyivan/main/mirea/ai-huawei'"
      ]
     },
     "execution_count": 3,
     "metadata": {},
     "output_type": "execute_result"
    }
   ],
   "source": [
    "import os\n",
    "\n",
    "os.getcwd()"
   ]
  },
  {
   "cell_type": "code",
   "execution_count": 4,
   "id": "09731df3",
   "metadata": {},
   "outputs": [
    {
     "data": {
      "text/plain": [
       "'/home/mikholskiyivan/main/mirea/ai-huawei'"
      ]
     },
     "execution_count": 4,
     "metadata": {},
     "output_type": "execute_result"
    }
   ],
   "source": [
    "from os import getcwd\n",
    "\n",
    "getcwd()"
   ]
  },
  {
   "cell_type": "code",
   "execution_count": 5,
   "id": "89e8cfe0",
   "metadata": {},
   "outputs": [
    {
     "data": {
      "text/plain": [
       "'Linux-5.15.15-100.fc34.x86_64-x86_64-with-glibc2.33'"
      ]
     },
     "execution_count": 5,
     "metadata": {},
     "output_type": "execute_result"
    }
   ],
   "source": [
    "import platform as pf\n",
    "\n",
    "pf.platform()"
   ]
  },
  {
   "cell_type": "markdown",
   "id": "22aeba5f",
   "metadata": {},
   "source": [
    "## 1.4"
   ]
  },
  {
   "cell_type": "code",
   "execution_count": 6,
   "id": "e23ff53d",
   "metadata": {},
   "outputs": [
    {
     "name": "stdout",
     "output_type": "stream",
     "text": [
      "1\n"
     ]
    }
   ],
   "source": [
    "a = 1\n",
    "\n",
    "print(a)"
   ]
  },
  {
   "cell_type": "markdown",
   "id": "c8a7fbb1",
   "metadata": {},
   "source": [
    "## 1.5"
   ]
  },
  {
   "cell_type": "code",
   "execution_count": 7,
   "id": "4bfd1916",
   "metadata": {},
   "outputs": [],
   "source": [
    "aA9_ = 1\n",
    "\n",
    "wasd = 100\n",
    "\n",
    "price = 100"
   ]
  },
  {
   "cell_type": "code",
   "execution_count": 8,
   "id": "57321616",
   "metadata": {},
   "outputs": [],
   "source": [
    "number_of_cats = 6"
   ]
  },
  {
   "cell_type": "code",
   "execution_count": 9,
   "id": "0f53bcc4",
   "metadata": {},
   "outputs": [
    {
     "ename": "SyntaxError",
     "evalue": "invalid syntax (1364191551.py, line 1)",
     "output_type": "error",
     "traceback": [
      "\u001b[0;36m  Input \u001b[0;32mIn [9]\u001b[0;36m\u001b[0m\n\u001b[0;31m    1a = 1\u001b[0m\n\u001b[0m     ^\u001b[0m\n\u001b[0;31mSyntaxError\u001b[0m\u001b[0;31m:\u001b[0m invalid syntax\n"
     ]
    }
   ],
   "source": [
    "1a = 1"
   ]
  },
  {
   "cell_type": "markdown",
   "id": "1511988f",
   "metadata": {},
   "source": [
    "### 1.5.2"
   ]
  },
  {
   "cell_type": "code",
   "execution_count": 10,
   "id": "19f47ed8",
   "metadata": {},
   "outputs": [
    {
     "ename": "SyntaxError",
     "evalue": "invalid syntax (2620295788.py, line 1)",
     "output_type": "error",
     "traceback": [
      "\u001b[0;36m  Input \u001b[0;32mIn [10]\u001b[0;36m\u001b[0m\n\u001b[0;31m    def = 1\u001b[0m\n\u001b[0m        ^\u001b[0m\n\u001b[0;31mSyntaxError\u001b[0m\u001b[0;31m:\u001b[0m invalid syntax\n"
     ]
    }
   ],
   "source": [
    "def = 1"
   ]
  },
  {
   "cell_type": "code",
   "execution_count": 11,
   "id": "fa1e3759",
   "metadata": {},
   "outputs": [
    {
     "data": {
      "text/plain": [
       "['False',\n",
       " 'None',\n",
       " 'True',\n",
       " '__peg_parser__',\n",
       " 'and',\n",
       " 'as',\n",
       " 'assert',\n",
       " 'async',\n",
       " 'await',\n",
       " 'break',\n",
       " 'class',\n",
       " 'continue',\n",
       " 'def',\n",
       " 'del',\n",
       " 'elif',\n",
       " 'else',\n",
       " 'except',\n",
       " 'finally',\n",
       " 'for',\n",
       " 'from',\n",
       " 'global',\n",
       " 'if',\n",
       " 'import',\n",
       " 'in',\n",
       " 'is',\n",
       " 'lambda',\n",
       " 'nonlocal',\n",
       " 'not',\n",
       " 'or',\n",
       " 'pass',\n",
       " 'raise',\n",
       " 'return',\n",
       " 'try',\n",
       " 'while',\n",
       " 'with',\n",
       " 'yield']"
      ]
     },
     "execution_count": 11,
     "metadata": {},
     "output_type": "execute_result"
    }
   ],
   "source": [
    "import keyword\n",
    "\n",
    "keyword.kwlist"
   ]
  },
  {
   "cell_type": "code",
   "execution_count": 12,
   "id": "59ba1038",
   "metadata": {},
   "outputs": [
    {
     "name": "stdout",
     "output_type": "stream",
     "text": [
      "\n",
      "Here is a list of the Python keywords.  Enter any keyword to get more help.\n",
      "\n",
      "False               break               for                 not\n",
      "None                class               from                or\n",
      "True                continue            global              pass\n",
      "__peg_parser__      def                 if                  raise\n",
      "and                 del                 import              return\n",
      "as                  elif                in                  try\n",
      "assert              else                is                  while\n",
      "async               except              lambda              with\n",
      "await               finally             nonlocal            yield\n",
      "\n"
     ]
    }
   ],
   "source": [
    "help('keywords')"
   ]
  },
  {
   "cell_type": "markdown",
   "id": "3902d72b",
   "metadata": {},
   "source": [
    "## 1.6"
   ]
  },
  {
   "cell_type": "code",
   "execution_count": 13,
   "id": "b63b3901",
   "metadata": {},
   "outputs": [
    {
     "name": "stdout",
     "output_type": "stream",
     "text": [
      "1\n",
      "2\n"
     ]
    }
   ],
   "source": [
    "a = 1\n",
    "b = 2\n",
    "\n",
    "print(a)\n",
    "print(b)"
   ]
  },
  {
   "cell_type": "code",
   "execution_count": 14,
   "id": "472c8309",
   "metadata": {},
   "outputs": [
    {
     "name": "stdout",
     "output_type": "stream",
     "text": [
      "2\n",
      "1\n"
     ]
    }
   ],
   "source": [
    "a, b = b, a\n",
    "print(a)\n",
    "print(b)"
   ]
  },
  {
   "cell_type": "markdown",
   "id": "0bee3dca",
   "metadata": {},
   "source": [
    "## 1.7"
   ]
  },
  {
   "cell_type": "code",
   "execution_count": 15,
   "id": "7a012864",
   "metadata": {},
   "outputs": [
    {
     "ename": "NameError",
     "evalue": "name 'y' is not defined",
     "output_type": "error",
     "traceback": [
      "\u001b[0;31m---------------------------------------------------------------------------\u001b[0m",
      "\u001b[0;31mNameError\u001b[0m                                 Traceback (most recent call last)",
      "Input \u001b[0;32mIn [15]\u001b[0m, in \u001b[0;36m<module>\u001b[0;34m\u001b[0m\n\u001b[1;32m      1\u001b[0m x \u001b[38;5;241m=\u001b[39m \u001b[38;5;241m0\u001b[39m\n\u001b[0;32m----> 2\u001b[0m \u001b[38;5;28mprint\u001b[39m(x \u001b[38;5;241m+\u001b[39m \u001b[43my\u001b[49m)\n\u001b[1;32m      3\u001b[0m y \u001b[38;5;241m=\u001b[39m \u001b[38;5;241m1\u001b[39m\n",
      "\u001b[0;31mNameError\u001b[0m: name 'y' is not defined"
     ]
    }
   ],
   "source": [
    "x = 0\n",
    "print(x + y)\n",
    "y = 1"
   ]
  },
  {
   "cell_type": "markdown",
   "id": "09a731b5",
   "metadata": {},
   "source": [
    "## 1.8"
   ]
  },
  {
   "cell_type": "code",
   "execution_count": 16,
   "id": "0fc91398",
   "metadata": {},
   "outputs": [],
   "source": [
    "def f1():\n",
    "    a = 1\n",
    "    b = 1\n",
    "    \n",
    "def f2():\n",
    "    a = 2\n",
    "    b = 2"
   ]
  },
  {
   "cell_type": "markdown",
   "id": "f9f22014",
   "metadata": {},
   "source": [
    "## 1.9"
   ]
  },
  {
   "cell_type": "code",
   "execution_count": 18,
   "id": "0b5562df",
   "metadata": {},
   "outputs": [
    {
     "name": "stdout",
     "output_type": "stream",
     "text": [
      "4\n"
     ]
    }
   ],
   "source": [
    "a = 1\n",
    "\n",
    "def f():\n",
    "    f = 2\n",
    "    \n",
    "c = 3\n",
    "\n",
    "print(a + c)"
   ]
  },
  {
   "cell_type": "code",
   "execution_count": 19,
   "id": "2da2952b",
   "metadata": {},
   "outputs": [
    {
     "ename": "TypeError",
     "evalue": "unsupported operand type(s) for +: 'int' and 'function'",
     "output_type": "error",
     "traceback": [
      "\u001b[0;31m---------------------------------------------------------------------------\u001b[0m",
      "\u001b[0;31mTypeError\u001b[0m                                 Traceback (most recent call last)",
      "Input \u001b[0;32mIn [19]\u001b[0m, in \u001b[0;36m<module>\u001b[0;34m\u001b[0m\n\u001b[0;32m----> 1\u001b[0m \u001b[38;5;28mprint\u001b[39m(\u001b[43ma\u001b[49m\u001b[43m \u001b[49m\u001b[38;5;241;43m+\u001b[39;49m\u001b[43m \u001b[49m\u001b[43mf\u001b[49m)\n",
      "\u001b[0;31mTypeError\u001b[0m: unsupported operand type(s) for +: 'int' and 'function'"
     ]
    }
   ],
   "source": [
    "print(a + f)"
   ]
  },
  {
   "cell_type": "markdown",
   "id": "9dace5e4",
   "metadata": {},
   "source": [
    "## 1.10"
   ]
  },
  {
   "cell_type": "code",
   "execution_count": 20,
   "id": "875cc4fc",
   "metadata": {},
   "outputs": [
    {
     "name": "stdout",
     "output_type": "stream",
     "text": [
      "input: 31\n"
     ]
    },
    {
     "data": {
      "text/plain": [
       "'31'"
      ]
     },
     "execution_count": 20,
     "metadata": {},
     "output_type": "execute_result"
    }
   ],
   "source": [
    "s = input(\"input: \")\n",
    "\n",
    "s"
   ]
  },
  {
   "cell_type": "markdown",
   "id": "fc7d78da",
   "metadata": {},
   "source": [
    "## 1.11\n",
    "### 1.11.1"
   ]
  },
  {
   "cell_type": "code",
   "execution_count": 21,
   "id": "8918078d",
   "metadata": {},
   "outputs": [
    {
     "name": "stdout",
     "output_type": "stream",
     "text": [
      "Help on built-in function print in module builtins:\n",
      "\n",
      "print(...)\n",
      "    print(value, ..., sep=' ', end='\\n', file=sys.stdout, flush=False)\n",
      "    \n",
      "    Prints the values to a stream, or to sys.stdout by default.\n",
      "    Optional keyword arguments:\n",
      "    file:  a file-like object (stream); defaults to the current sys.stdout.\n",
      "    sep:   string inserted between values, default a space.\n",
      "    end:   string appended after the last value, default a newline.\n",
      "    flush: whether to forcibly flush the stream.\n",
      "\n"
     ]
    }
   ],
   "source": [
    "help(print)"
   ]
  },
  {
   "cell_type": "markdown",
   "id": "8b5483e7",
   "metadata": {},
   "source": [
    "### 1.11.2"
   ]
  },
  {
   "cell_type": "code",
   "execution_count": 22,
   "id": "dad6c792",
   "metadata": {},
   "outputs": [
    {
     "data": {
      "text/plain": [
       "139707595600896"
      ]
     },
     "execution_count": 22,
     "metadata": {},
     "output_type": "execute_result"
    }
   ],
   "source": [
    "id(print)"
   ]
  },
  {
   "cell_type": "markdown",
   "id": "f84a1c72",
   "metadata": {},
   "source": [
    "### 1.11.3"
   ]
  },
  {
   "cell_type": "code",
   "execution_count": 23,
   "id": "c72f5b77",
   "metadata": {},
   "outputs": [
    {
     "data": {
      "text/plain": [
       "int"
      ]
     },
     "execution_count": 23,
     "metadata": {},
     "output_type": "execute_result"
    }
   ],
   "source": [
    "a = 1\n",
    "\n",
    "type(a)"
   ]
  },
  {
   "cell_type": "markdown",
   "id": "2b645a16",
   "metadata": {},
   "source": [
    "### 1.11.4"
   ]
  },
  {
   "cell_type": "code",
   "execution_count": 24,
   "id": "d033deed",
   "metadata": {},
   "outputs": [
    {
     "ename": "NameError",
     "evalue": "name 'a' is not defined",
     "output_type": "error",
     "traceback": [
      "\u001b[0;31m---------------------------------------------------------------------------\u001b[0m",
      "\u001b[0;31mNameError\u001b[0m                                 Traceback (most recent call last)",
      "Input \u001b[0;32mIn [24]\u001b[0m, in \u001b[0;36m<module>\u001b[0;34m\u001b[0m\n\u001b[1;32m      1\u001b[0m a \u001b[38;5;241m=\u001b[39m \u001b[38;5;241m1\u001b[39m\n\u001b[1;32m      3\u001b[0m \u001b[38;5;28;01mdel\u001b[39;00m(a)\n\u001b[0;32m----> 5\u001b[0m \u001b[38;5;28mprint\u001b[39m(\u001b[43ma\u001b[49m)\n",
      "\u001b[0;31mNameError\u001b[0m: name 'a' is not defined"
     ]
    }
   ],
   "source": [
    "a = 1\n",
    "\n",
    "del(a)\n",
    "\n",
    "print(a)"
   ]
  },
  {
   "cell_type": "markdown",
   "id": "03f3e90b",
   "metadata": {},
   "source": [
    "### 1.11.5"
   ]
  },
  {
   "cell_type": "code",
   "execution_count": 25,
   "id": "c1ab740c",
   "metadata": {},
   "outputs": [
    {
     "data": {
      "text/plain": [
       "12"
      ]
     },
     "execution_count": 25,
     "metadata": {},
     "output_type": "execute_result"
    }
   ],
   "source": [
    "len('hello world!')"
   ]
  },
  {
   "cell_type": "markdown",
   "id": "8155c048",
   "metadata": {},
   "source": [
    "# 2 Python Data Types"
   ]
  },
  {
   "cell_type": "markdown",
   "id": "a7efde92",
   "metadata": {},
   "source": [
    "## 2.1"
   ]
  },
  {
   "cell_type": "code",
   "execution_count": 27,
   "id": "21e49213",
   "metadata": {},
   "outputs": [
    {
     "name": "stdout",
     "output_type": "stream",
     "text": [
      "<class 'int'>\n"
     ]
    }
   ],
   "source": [
    "a = 5\n",
    "\n",
    "print(type(a))"
   ]
  },
  {
   "cell_type": "code",
   "execution_count": 28,
   "id": "b2f2ccaf",
   "metadata": {},
   "outputs": [
    {
     "name": "stdout",
     "output_type": "stream",
     "text": [
      "<class 'float'>\n"
     ]
    }
   ],
   "source": [
    "a = 5.0\n",
    "\n",
    "print(type(a))"
   ]
  },
  {
   "cell_type": "code",
   "execution_count": 29,
   "id": "292f7ad6",
   "metadata": {},
   "outputs": [
    {
     "name": "stdout",
     "output_type": "stream",
     "text": [
      "<class 'complex'>\n"
     ]
    }
   ],
   "source": [
    "a = 5 + 5j\n",
    "\n",
    "print(type(a))"
   ]
  },
  {
   "cell_type": "markdown",
   "id": "7e30fb5a",
   "metadata": {},
   "source": [
    "## 2.2\n",
    "### 2.2.1"
   ]
  },
  {
   "cell_type": "code",
   "execution_count": 31,
   "id": "31c428e2",
   "metadata": {},
   "outputs": [
    {
     "name": "stdout",
     "output_type": "stream",
     "text": [
      "日本語 - Japanese --- <class 'str'>\n",
      "日本語 - Japanese --- <class 'str'>\n",
      "日本語\n",
      "        \n",
      "        Japanese\n",
      "     --- <class 'str'>\n"
     ]
    }
   ],
   "source": [
    "s1 = \"日本語 - Japanese\"\n",
    "\n",
    "s2 = '日本語 - Japanese'\n",
    "\n",
    "s3 = \"\"\"日本語\n",
    "        \n",
    "        Japanese\n",
    "    \"\"\"\n",
    "\n",
    "print(s1, '---', type(s1))\n",
    "print(s2, '---', type(s2))\n",
    "print(s3, '---', type(s3))"
   ]
  },
  {
   "cell_type": "markdown",
   "id": "9e452294",
   "metadata": {},
   "source": [
    "### 2.2.2"
   ]
  },
  {
   "cell_type": "code",
   "execution_count": 36,
   "id": "bf4134cb",
   "metadata": {},
   "outputs": [
    {
     "name": "stdout",
     "output_type": "stream",
     "text": [
      "python\"\n",
      "python\\\n",
      "py\n",
      "thon\n"
     ]
    }
   ],
   "source": [
    "print(\"python\\\"\")\n",
    "\n",
    "print(\"python\\\\\")\n",
    "\n",
    "print(\"py\\nthon\")"
   ]
  },
  {
   "cell_type": "markdown",
   "id": "42076891",
   "metadata": {},
   "source": [
    "### 2.2.3"
   ]
  },
  {
   "cell_type": "code",
   "execution_count": 41,
   "id": "de4c70d4",
   "metadata": {},
   "outputs": [
    {
     "name": "stdout",
     "output_type": "stream",
     "text": [
      "C:\\abc\\abc\\abc.txt\n"
     ]
    }
   ],
   "source": [
    "s = r\"C:\\abc\\abc\\abc.txt\"\n",
    "\n",
    "print(s)"
   ]
  },
  {
   "cell_type": "markdown",
   "id": "a7cf3db0",
   "metadata": {},
   "source": [
    "### 2.2.4"
   ]
  },
  {
   "cell_type": "code",
   "execution_count": 42,
   "id": "370b68c6",
   "metadata": {},
   "outputs": [
    {
     "data": {
      "text/plain": [
       "'p'"
      ]
     },
     "execution_count": 42,
     "metadata": {},
     "output_type": "execute_result"
    }
   ],
   "source": [
    "s = \"python\"\n",
    "\n",
    "s[0]"
   ]
  },
  {
   "cell_type": "code",
   "execution_count": 43,
   "id": "9b1ff95e",
   "metadata": {},
   "outputs": [
    {
     "data": {
      "text/plain": [
       "'y'"
      ]
     },
     "execution_count": 43,
     "metadata": {},
     "output_type": "execute_result"
    }
   ],
   "source": [
    "s[1]"
   ]
  },
  {
   "cell_type": "code",
   "execution_count": 44,
   "id": "6201360a",
   "metadata": {},
   "outputs": [
    {
     "data": {
      "text/plain": [
       "'n'"
      ]
     },
     "execution_count": 44,
     "metadata": {},
     "output_type": "execute_result"
    }
   ],
   "source": [
    "s[-1]"
   ]
  },
  {
   "cell_type": "code",
   "execution_count": 45,
   "id": "e8104c9a",
   "metadata": {},
   "outputs": [
    {
     "ename": "IndexError",
     "evalue": "string index out of range",
     "output_type": "error",
     "traceback": [
      "\u001b[0;31m---------------------------------------------------------------------------\u001b[0m",
      "\u001b[0;31mIndexError\u001b[0m                                Traceback (most recent call last)",
      "Input \u001b[0;32mIn [45]\u001b[0m, in \u001b[0;36m<module>\u001b[0;34m\u001b[0m\n\u001b[0;32m----> 1\u001b[0m \u001b[43ms\u001b[49m\u001b[43m[\u001b[49m\u001b[38;5;241;43m99\u001b[39;49m\u001b[43m]\u001b[49m\n",
      "\u001b[0;31mIndexError\u001b[0m: string index out of range"
     ]
    }
   ],
   "source": [
    "s[99]"
   ]
  },
  {
   "cell_type": "code",
   "execution_count": 46,
   "id": "d006e9bc",
   "metadata": {},
   "outputs": [
    {
     "ename": "TypeError",
     "evalue": "string indices must be integers",
     "output_type": "error",
     "traceback": [
      "\u001b[0;31m---------------------------------------------------------------------------\u001b[0m",
      "\u001b[0;31mTypeError\u001b[0m                                 Traceback (most recent call last)",
      "Input \u001b[0;32mIn [46]\u001b[0m, in \u001b[0;36m<module>\u001b[0;34m\u001b[0m\n\u001b[0;32m----> 1\u001b[0m \u001b[43ms\u001b[49m\u001b[43m[\u001b[49m\u001b[38;5;241;43m1.0\u001b[39;49m\u001b[43m]\u001b[49m\n",
      "\u001b[0;31mTypeError\u001b[0m: string indices must be integers"
     ]
    }
   ],
   "source": [
    "s[1.0]"
   ]
  },
  {
   "cell_type": "code",
   "execution_count": 47,
   "id": "1546eacc",
   "metadata": {},
   "outputs": [
    {
     "data": {
      "text/plain": [
       "'pyt'"
      ]
     },
     "execution_count": 47,
     "metadata": {},
     "output_type": "execute_result"
    }
   ],
   "source": [
    "s[0:3]"
   ]
  },
  {
   "cell_type": "code",
   "execution_count": 48,
   "id": "6d31d9f8",
   "metadata": {},
   "outputs": [
    {
     "data": {
      "text/plain": [
       "'pt'"
      ]
     },
     "execution_count": 48,
     "metadata": {},
     "output_type": "execute_result"
    }
   ],
   "source": [
    "s[0:4:2]"
   ]
  },
  {
   "cell_type": "code",
   "execution_count": 49,
   "id": "6230bfaa",
   "metadata": {},
   "outputs": [
    {
     "ename": "TypeError",
     "evalue": "'str' object does not support item assignment",
     "output_type": "error",
     "traceback": [
      "\u001b[0;31m---------------------------------------------------------------------------\u001b[0m",
      "\u001b[0;31mTypeError\u001b[0m                                 Traceback (most recent call last)",
      "Input \u001b[0;32mIn [49]\u001b[0m, in \u001b[0;36m<module>\u001b[0;34m\u001b[0m\n\u001b[0;32m----> 1\u001b[0m s[\u001b[38;5;241m0\u001b[39m] \u001b[38;5;241m=\u001b[39m \u001b[38;5;124m'\u001b[39m\u001b[38;5;124m1\u001b[39m\u001b[38;5;124m'\u001b[39m\n",
      "\u001b[0;31mTypeError\u001b[0m: 'str' object does not support item assignment"
     ]
    }
   ],
   "source": [
    "s[0] = '1'"
   ]
  },
  {
   "cell_type": "markdown",
   "id": "0fd90e4f",
   "metadata": {},
   "source": [
    "### 2.2.5"
   ]
  },
  {
   "cell_type": "code",
   "execution_count": 50,
   "id": "0ff0beba",
   "metadata": {},
   "outputs": [
    {
     "data": {
      "text/plain": [
       "'hellowworld'"
      ]
     },
     "execution_count": 50,
     "metadata": {},
     "output_type": "execute_result"
    }
   ],
   "source": [
    "a = \"hellow\"\n",
    "b = \"world\"\n",
    "\n",
    "a + b"
   ]
  },
  {
   "cell_type": "code",
   "execution_count": 51,
   "id": "1c8e6333",
   "metadata": {},
   "outputs": [
    {
     "data": {
      "text/plain": [
       "'hellohello'"
      ]
     },
     "execution_count": 51,
     "metadata": {},
     "output_type": "execute_result"
    }
   ],
   "source": [
    "a = \"hello\"\n",
    "b = 2\n",
    "\n",
    "a * b"
   ]
  },
  {
   "cell_type": "markdown",
   "id": "a79f7bc5",
   "metadata": {},
   "source": [
    "### 2.2.6"
   ]
  },
  {
   "cell_type": "code",
   "execution_count": 52,
   "id": "61d78de9",
   "metadata": {},
   "outputs": [
    {
     "data": {
      "text/plain": [
       "['python', 'is', 'cool']"
      ]
     },
     "execution_count": 52,
     "metadata": {},
     "output_type": "execute_result"
    }
   ],
   "source": [
    "s = \"python is cool\"\n",
    "s.split(' ')"
   ]
  },
  {
   "cell_type": "code",
   "execution_count": 53,
   "id": "65d8605b",
   "metadata": {},
   "outputs": [
    {
     "data": {
      "text/plain": [
       "'ABCthon'"
      ]
     },
     "execution_count": 53,
     "metadata": {},
     "output_type": "execute_result"
    }
   ],
   "source": [
    "s = \"python\"\n",
    "\n",
    "s.replace(\"py\", 'ABC')"
   ]
  },
  {
   "cell_type": "code",
   "execution_count": 54,
   "id": "2b277baa",
   "metadata": {},
   "outputs": [
    {
     "name": "stdout",
     "output_type": "stream",
     "text": [
      "python\n",
      "PYTHON\n"
     ]
    }
   ],
   "source": [
    "s = \"PYthon\"\n",
    "\n",
    "print(s.lower())\n",
    "print(s.upper())"
   ]
  },
  {
   "cell_type": "code",
   "execution_count": 55,
   "id": "b42b677f",
   "metadata": {},
   "outputs": [
    {
     "data": {
      "text/plain": [
       "'python--is--cool'"
      ]
     },
     "execution_count": 55,
     "metadata": {},
     "output_type": "execute_result"
    }
   ],
   "source": [
    "'--'.join(['python', 'is', 'cool'])"
   ]
  },
  {
   "cell_type": "markdown",
   "id": "8b7e88c6",
   "metadata": {},
   "source": [
    "### 2.2.7"
   ]
  },
  {
   "cell_type": "code",
   "execution_count": 56,
   "id": "f54c66a6",
   "metadata": {},
   "outputs": [
    {
     "data": {
      "text/plain": [
       "'My name is Ivan, age is 21'"
      ]
     },
     "execution_count": 56,
     "metadata": {},
     "output_type": "execute_result"
    }
   ],
   "source": [
    "'My name is %s, age is %d' %('Ivan', 21)"
   ]
  },
  {
   "cell_type": "markdown",
   "id": "4a8f3592",
   "metadata": {},
   "source": [
    "## 2.3"
   ]
  },
  {
   "cell_type": "code",
   "execution_count": 57,
   "id": "246720f1",
   "metadata": {},
   "outputs": [
    {
     "name": "stdout",
     "output_type": "stream",
     "text": [
      "[1, 2, 3]\n"
     ]
    }
   ],
   "source": [
    "l = [1, 2, 3]\n",
    "\n",
    "print(l)"
   ]
  },
  {
   "cell_type": "code",
   "execution_count": 59,
   "id": "2b17b991",
   "metadata": {},
   "outputs": [
    {
     "name": "stdout",
     "output_type": "stream",
     "text": [
      "2\n",
      "[1, 2]\n",
      "[1, 3]\n",
      "[1, 10000, 3]\n"
     ]
    }
   ],
   "source": [
    "print(l[1])\n",
    "print(l[0:2])\n",
    "print(l[0:3:2])\n",
    "\n",
    "l[1] = 10000\n",
    "print(l)"
   ]
  },
  {
   "cell_type": "markdown",
   "id": "5e64fa17",
   "metadata": {},
   "source": [
    "### 2.3.1"
   ]
  },
  {
   "cell_type": "code",
   "execution_count": 60,
   "id": "346aa42a",
   "metadata": {},
   "outputs": [],
   "source": [
    "a = [1, 2, 3]\n",
    "b = [4, 5]"
   ]
  },
  {
   "cell_type": "code",
   "execution_count": 61,
   "id": "1c5f6670",
   "metadata": {},
   "outputs": [
    {
     "name": "stdout",
     "output_type": "stream",
     "text": [
      "[1, 2, 3, 1, 2, 3]\n",
      "[1, 2, 3, 4, 5]\n"
     ]
    }
   ],
   "source": [
    "print(a * 2)\n",
    "print(a + b)"
   ]
  },
  {
   "cell_type": "markdown",
   "id": "632a92cd",
   "metadata": {},
   "source": [
    "### 2.3.2"
   ]
  },
  {
   "cell_type": "code",
   "execution_count": 62,
   "id": "59abc4d0",
   "metadata": {},
   "outputs": [
    {
     "name": "stdout",
     "output_type": "stream",
     "text": [
      "['cat', 'dog', 'bird', 'fish']\n"
     ]
    }
   ],
   "source": [
    "animals = ['cat', 'dog', 'bird']\n",
    "\n",
    "animals.append('fish')\n",
    "\n",
    "print(animals)"
   ]
  },
  {
   "cell_type": "code",
   "execution_count": 63,
   "id": "caa12cd1",
   "metadata": {},
   "outputs": [
    {
     "name": "stdout",
     "output_type": "stream",
     "text": [
      "['cat', 'dog', 'bird']\n"
     ]
    }
   ],
   "source": [
    "animals.remove('fish')\n",
    "print(animals)"
   ]
  },
  {
   "cell_type": "code",
   "execution_count": 64,
   "id": "c984a578",
   "metadata": {},
   "outputs": [
    {
     "name": "stdout",
     "output_type": "stream",
     "text": [
      "['cat', 'fish', 'dog', 'bird']\n"
     ]
    }
   ],
   "source": [
    "animals.insert(1, 'fish')\n",
    "print(animals)"
   ]
  },
  {
   "cell_type": "code",
   "execution_count": 65,
   "id": "e66a347c",
   "metadata": {},
   "outputs": [
    {
     "name": "stdout",
     "output_type": "stream",
     "text": [
      "bird\n",
      "['cat', 'fish', 'dog']\n"
     ]
    }
   ],
   "source": [
    "print(animals.pop())\n",
    "print(animals)"
   ]
  },
  {
   "cell_type": "code",
   "execution_count": 66,
   "id": "8d11b94d",
   "metadata": {},
   "outputs": [
    {
     "name": "stdout",
     "output_type": "stream",
     "text": [
      "0 cat\n",
      "1 fish\n",
      "2 dog\n"
     ]
    }
   ],
   "source": [
    "for i, x in enumerate(animals):\n",
    "    print(i, x)"
   ]
  },
  {
   "cell_type": "code",
   "execution_count": 67,
   "id": "b84574a7",
   "metadata": {},
   "outputs": [
    {
     "name": "stdout",
     "output_type": "stream",
     "text": [
      "[12, 32, 45, 55]\n"
     ]
    }
   ],
   "source": [
    "list1 = [12, 45, 32, 55]\n",
    "\n",
    "list1.sort()\n",
    "\n",
    "print(list1)"
   ]
  },
  {
   "cell_type": "code",
   "execution_count": 69,
   "id": "d34dac66",
   "metadata": {},
   "outputs": [
    {
     "name": "stdout",
     "output_type": "stream",
     "text": [
      "[12, 32, 45, 55]\n"
     ]
    }
   ],
   "source": [
    "list1.reverse()\n",
    "\n",
    "print(list1)"
   ]
  },
  {
   "cell_type": "code",
   "execution_count": 72,
   "id": "4eb692e1",
   "metadata": {},
   "outputs": [
    {
     "name": "stdout",
     "output_type": "stream",
     "text": [
      "['catcat', 'fishfish', 'dogdog']\n"
     ]
    }
   ],
   "source": [
    "squares = [x*2 for x in animals]\n",
    "\n",
    "print(squares)"
   ]
  },
  {
   "cell_type": "markdown",
   "id": "77da3d5f",
   "metadata": {},
   "source": [
    "### 2.3.3"
   ]
  },
  {
   "cell_type": "code",
   "execution_count": 73,
   "id": "0e4d1838",
   "metadata": {},
   "outputs": [
    {
     "data": {
      "text/plain": [
       "4"
      ]
     },
     "execution_count": 73,
     "metadata": {},
     "output_type": "execute_result"
    }
   ],
   "source": [
    "l = [[1, 3], [4, 5]]\n",
    "\n",
    "l[1][0]"
   ]
  },
  {
   "cell_type": "code",
   "execution_count": 74,
   "id": "783fe369",
   "metadata": {},
   "outputs": [
    {
     "data": {
      "text/plain": [
       "[0, 2, 4]"
      ]
     },
     "execution_count": 74,
     "metadata": {},
     "output_type": "execute_result"
    }
   ],
   "source": [
    "l = [0, 1, 2, 3, 4, 5]\n",
    "\n",
    "l[::2]"
   ]
  },
  {
   "cell_type": "code",
   "execution_count": 75,
   "id": "8078933e",
   "metadata": {},
   "outputs": [
    {
     "data": {
      "text/plain": [
       "[1, 3]"
      ]
     },
     "execution_count": 75,
     "metadata": {},
     "output_type": "execute_result"
    }
   ],
   "source": [
    "l[1:4:2]"
   ]
  },
  {
   "cell_type": "markdown",
   "id": "3e2af431",
   "metadata": {},
   "source": [
    "## 2.4"
   ]
  },
  {
   "cell_type": "code",
   "execution_count": 76,
   "id": "4d5a47b6",
   "metadata": {},
   "outputs": [
    {
     "name": "stdout",
     "output_type": "stream",
     "text": [
      "(1, [1, 2], 'python')\n",
      "<class 'tuple'>\n"
     ]
    }
   ],
   "source": [
    "t = (1, [1, 2], 'python')\n",
    "\n",
    "print(t)\n",
    "\n",
    "print(type(t))"
   ]
  },
  {
   "cell_type": "code",
   "execution_count": 77,
   "id": "629155eb",
   "metadata": {},
   "outputs": [
    {
     "name": "stdout",
     "output_type": "stream",
     "text": [
      "t1 <class 'int'>\n",
      "t2 <class 'tuple'>\n"
     ]
    }
   ],
   "source": [
    "t1 = (5)\n",
    "\n",
    "t2 = (5,)\n",
    "\n",
    "print('t1', type(t1))\n",
    "print('t2', type(t2))"
   ]
  },
  {
   "cell_type": "code",
   "execution_count": 78,
   "id": "112a0a26",
   "metadata": {},
   "outputs": [
    {
     "name": "stdout",
     "output_type": "stream",
     "text": [
      "2\n"
     ]
    }
   ],
   "source": [
    "t = (1, 2, 3)\n",
    "print(t[1])"
   ]
  },
  {
   "cell_type": "code",
   "execution_count": 79,
   "id": "bc1db5eb",
   "metadata": {},
   "outputs": [
    {
     "ename": "TypeError",
     "evalue": "'tuple' object does not support item assignment",
     "output_type": "error",
     "traceback": [
      "\u001b[0;31m---------------------------------------------------------------------------\u001b[0m",
      "\u001b[0;31mTypeError\u001b[0m                                 Traceback (most recent call last)",
      "Input \u001b[0;32mIn [79]\u001b[0m, in \u001b[0;36m<module>\u001b[0;34m\u001b[0m\n\u001b[0;32m----> 1\u001b[0m t[\u001b[38;5;241m1\u001b[39m] \u001b[38;5;241m=\u001b[39m \u001b[38;5;241m0\u001b[39m\n",
      "\u001b[0;31mTypeError\u001b[0m: 'tuple' object does not support item assignment"
     ]
    }
   ],
   "source": [
    "t[1] = 0"
   ]
  },
  {
   "cell_type": "markdown",
   "id": "2cc40e30",
   "metadata": {},
   "source": [
    "## 2.5"
   ]
  },
  {
   "cell_type": "code",
   "execution_count": 81,
   "id": "135583aa",
   "metadata": {},
   "outputs": [
    {
     "name": "stdout",
     "output_type": "stream",
     "text": [
      "{'food': 'Spam', 'quantity': 4, 'color': 'pink'}\n",
      "{'food': 'Spam', 'quantity': 4, 'color': 'pink'}\n",
      "{'food': 'Spam', 'quantity': 4, 'color': 'pink'}\n"
     ]
    }
   ],
   "source": [
    "x = {'food': 'Spam', 'quantity': 4, 'color': 'pink'}\n",
    "x2 = dict(food='Spam', quantity=4, color='pink')\n",
    "x3 = dict([('food', 'Spam'), ('quantity', 4), ('color', 'pink')])\n",
    "\n",
    "print(x)\n",
    "print(x2)\n",
    "print(x3)"
   ]
  },
  {
   "cell_type": "markdown",
   "id": "7ac2604d",
   "metadata": {},
   "source": [
    "### 2.5.1"
   ]
  },
  {
   "cell_type": "code",
   "execution_count": 82,
   "id": "8a110d39",
   "metadata": {},
   "outputs": [
    {
     "name": "stdout",
     "output_type": "stream",
     "text": [
      "Spam\n"
     ]
    }
   ],
   "source": [
    "print(x['food'])"
   ]
  },
  {
   "cell_type": "code",
   "execution_count": 83,
   "id": "6c4df79e",
   "metadata": {},
   "outputs": [
    {
     "ename": "KeyError",
     "evalue": "'a'",
     "output_type": "error",
     "traceback": [
      "\u001b[0;31m---------------------------------------------------------------------------\u001b[0m",
      "\u001b[0;31mKeyError\u001b[0m                                  Traceback (most recent call last)",
      "Input \u001b[0;32mIn [83]\u001b[0m, in \u001b[0;36m<module>\u001b[0;34m\u001b[0m\n\u001b[0;32m----> 1\u001b[0m \u001b[38;5;28mprint\u001b[39m(\u001b[43mx\u001b[49m\u001b[43m[\u001b[49m\u001b[38;5;124;43m'\u001b[39;49m\u001b[38;5;124;43ma\u001b[39;49m\u001b[38;5;124;43m'\u001b[39;49m\u001b[43m]\u001b[49m)\n",
      "\u001b[0;31mKeyError\u001b[0m: 'a'"
     ]
    }
   ],
   "source": [
    "print(x['a'])"
   ]
  },
  {
   "cell_type": "code",
   "execution_count": 86,
   "id": "6a4b3930",
   "metadata": {},
   "outputs": [
    {
     "name": "stdout",
     "output_type": "stream",
     "text": [
      "Spam\n",
      "None\n",
      "cannot find a\n"
     ]
    }
   ],
   "source": [
    "print(x.get('food'))\n",
    "\n",
    "print(x.get('a'))\n",
    "\n",
    "print(x.get('a', 'cannot find a'))"
   ]
  },
  {
   "cell_type": "code",
   "execution_count": 87,
   "id": "7f669743",
   "metadata": {},
   "outputs": [
    {
     "name": "stdout",
     "output_type": "stream",
     "text": [
      "dict_keys(['food', 'quantity', 'color'])\n",
      "dict_values(['Spam', 4, 'pink'])\n",
      "dict_items([('food', 'Spam'), ('quantity', 4), ('color', 'pink')])\n"
     ]
    }
   ],
   "source": [
    "print(x.keys())\n",
    "\n",
    "print(x.values())\n",
    "\n",
    "print(x.items())"
   ]
  },
  {
   "cell_type": "code",
   "execution_count": 90,
   "id": "76cf38ea",
   "metadata": {},
   "outputs": [
    {
     "name": "stdout",
     "output_type": "stream",
     "text": [
      "{'food': 'Spam', 'quantity': 4, 'color': 'pink', 'x_key': 'x_val'}"
     ]
    }
   ],
   "source": [
    "x[\"x_key\"] = 'x_val'\n",
    "\n",
    "print(x)"
   ]
  },
  {
   "cell_type": "code",
   "execution_count": 91,
   "id": "10ac34f1",
   "metadata": {},
   "outputs": [
    {
     "name": "stdout",
     "output_type": "stream",
     "text": [
      "{'food': 'Spam', 'quantity': 4, 'color': 'pink', 'x_key': 0}\n"
     ]
    }
   ],
   "source": [
    "x['x_key'] = 0\n",
    "print(x)"
   ]
  },
  {
   "cell_type": "markdown",
   "id": "7a8ee12f",
   "metadata": {},
   "source": [
    "## 2.6"
   ]
  },
  {
   "cell_type": "code",
   "execution_count": 93,
   "id": "89f24cb3",
   "metadata": {},
   "outputs": [
    {
     "name": "stdout",
     "output_type": "stream",
     "text": [
      "{'Prince', 'Techs'}\n",
      "{'Prince', 'Techs'}\n"
     ]
    }
   ],
   "source": [
    "sample_set = {'Prince', 'Techs'}\n",
    "sample_set2 = set(['Prince', 'Techs'])\n",
    "\n",
    "print(sample_set)\n",
    "\n",
    "print(sample_set2)"
   ]
  },
  {
   "cell_type": "code",
   "execution_count": 94,
   "id": "fc2e61dd",
   "metadata": {},
   "outputs": [
    {
     "name": "stdout",
     "output_type": "stream",
     "text": [
      "False\n",
      "True\n"
     ]
    }
   ],
   "source": [
    "print('Data' in sample_set)\n",
    "\n",
    "print('Techs' in sample_set)"
   ]
  },
  {
   "cell_type": "code",
   "execution_count": 95,
   "id": "47f95416",
   "metadata": {},
   "outputs": [
    {
     "name": "stdout",
     "output_type": "stream",
     "text": [
      "{'Data', 'Prince', 'Techs'}\n",
      "3\n"
     ]
    }
   ],
   "source": [
    "sample_set.add('Data')\n",
    "\n",
    "print(sample_set)\n",
    "\n",
    "print(len(sample_set))"
   ]
  },
  {
   "cell_type": "code",
   "execution_count": 96,
   "id": "4b7bacca",
   "metadata": {},
   "outputs": [
    {
     "name": "stdout",
     "output_type": "stream",
     "text": [
      "{'Prince', 'Techs'}\n"
     ]
    }
   ],
   "source": [
    "sample_set.remove('Data')\n",
    "print(sample_set)"
   ]
  },
  {
   "cell_type": "code",
   "execution_count": 97,
   "id": "c7233a07",
   "metadata": {},
   "outputs": [
    {
     "name": "stdout",
     "output_type": "stream",
     "text": [
      "[1, 3, 5]\n"
     ]
    }
   ],
   "source": [
    "list2 = [1, 3, 1, 5, 3]\n",
    "\n",
    "print(list(set(list2)))"
   ]
  },
  {
   "cell_type": "code",
   "execution_count": 98,
   "id": "cc66267e",
   "metadata": {},
   "outputs": [
    {
     "ename": "AttributeError",
     "evalue": "'frozenset' object has no attribute 'add'",
     "output_type": "error",
     "traceback": [
      "\u001b[0;31m---------------------------------------------------------------------------\u001b[0m",
      "\u001b[0;31mAttributeError\u001b[0m                            Traceback (most recent call last)",
      "Input \u001b[0;32mIn [98]\u001b[0m, in \u001b[0;36m<module>\u001b[0;34m\u001b[0m\n\u001b[1;32m      1\u001b[0m sample_set \u001b[38;5;241m=\u001b[39m \u001b[38;5;28mfrozenset\u001b[39m(sample_set)\n\u001b[0;32m----> 3\u001b[0m \u001b[43msample_set\u001b[49m\u001b[38;5;241;43m.\u001b[39;49m\u001b[43madd\u001b[49m(\u001b[38;5;124m'\u001b[39m\u001b[38;5;124mcat\u001b[39m\u001b[38;5;124m'\u001b[39m)\n",
      "\u001b[0;31mAttributeError\u001b[0m: 'frozenset' object has no attribute 'add'"
     ]
    }
   ],
   "source": [
    "sample_set = frozenset(sample_set)\n",
    "\n",
    "sample_set.add('cat')"
   ]
  },
  {
   "cell_type": "markdown",
   "id": "052a41b6",
   "metadata": {},
   "source": [
    "## 2.7\n",
    "### 2.7.1"
   ]
  },
  {
   "cell_type": "code",
   "execution_count": 99,
   "id": "c2012950",
   "metadata": {},
   "outputs": [
    {
     "name": "stdout",
     "output_type": "stream",
     "text": [
      "[100000, 2, 3, [4, 5]]\n"
     ]
    }
   ],
   "source": [
    "a = [1, 2, 3, [4, 5]]\n",
    "\n",
    "b = a\n",
    "\n",
    "b[0] = 100000\n",
    "\n",
    "print(a)"
   ]
  },
  {
   "cell_type": "code",
   "execution_count": 100,
   "id": "2a76241a",
   "metadata": {},
   "outputs": [
    {
     "name": "stdout",
     "output_type": "stream",
     "text": [
      "[1, 2, 3, [4, 5]]\n"
     ]
    }
   ],
   "source": [
    "a = [1, 2, 3, [4, 5]]\n",
    "\n",
    "b = a.copy()\n",
    "\n",
    "b[0] = 429701928102957\n",
    "\n",
    "print(a)"
   ]
  },
  {
   "cell_type": "code",
   "execution_count": 101,
   "id": "759e1cb2",
   "metadata": {},
   "outputs": [
    {
     "name": "stdout",
     "output_type": "stream",
     "text": [
      "[1, 2, 3, [99, 5]]\n"
     ]
    }
   ],
   "source": [
    "b[3][0] = 99\n",
    "\n",
    "print(a)"
   ]
  },
  {
   "cell_type": "code",
   "execution_count": 102,
   "id": "3637c5f8",
   "metadata": {},
   "outputs": [],
   "source": [
    "import copy"
   ]
  },
  {
   "cell_type": "code",
   "execution_count": 103,
   "id": "e1a009cc",
   "metadata": {},
   "outputs": [
    {
     "name": "stdout",
     "output_type": "stream",
     "text": [
      "[1, 2, 3, [4, 5]]\n"
     ]
    }
   ],
   "source": [
    "a = [1, 2, 3, [4, 5]]\n",
    "\n",
    "b = copy.deepcopy(a)\n",
    "\n",
    "b[3][0] = 1345145136153\n",
    "\n",
    "print(a)"
   ]
  },
  {
   "cell_type": "markdown",
   "id": "cdd6282b",
   "metadata": {},
   "source": [
    "### 2.7.2"
   ]
  },
  {
   "cell_type": "code",
   "execution_count": 106,
   "id": "9244f55d",
   "metadata": {},
   "outputs": [
    {
     "data": {
      "text/plain": [
       "5.0"
      ]
     },
     "execution_count": 106,
     "metadata": {},
     "output_type": "execute_result"
    }
   ],
   "source": [
    "a = 5\n",
    "\n",
    "a += 1\n",
    "\n",
    "a -= 1\n",
    "\n",
    "a *= 2\n",
    "\n",
    "a /= 2\n",
    "\n",
    "a"
   ]
  },
  {
   "cell_type": "code",
   "execution_count": 107,
   "id": "095629bb",
   "metadata": {},
   "outputs": [
    {
     "name": "stdout",
     "output_type": "stream",
     "text": [
      "False\n",
      "True\n",
      "True\n",
      "False\n"
     ]
    }
   ],
   "source": [
    "print(1 >= 2)\n",
    "print(1 <= 2)\n",
    "print(1 != 2)\n",
    "print(1 == 2)"
   ]
  },
  {
   "cell_type": "code",
   "execution_count": 108,
   "id": "b884635f",
   "metadata": {},
   "outputs": [
    {
     "data": {
      "text/plain": [
       "False"
      ]
     },
     "execution_count": 108,
     "metadata": {},
     "output_type": "execute_result"
    }
   ],
   "source": [
    "True and False"
   ]
  },
  {
   "cell_type": "code",
   "execution_count": 109,
   "id": "26c53218",
   "metadata": {},
   "outputs": [
    {
     "data": {
      "text/plain": [
       "True"
      ]
     },
     "execution_count": 109,
     "metadata": {},
     "output_type": "execute_result"
    }
   ],
   "source": [
    "True or False"
   ]
  },
  {
   "cell_type": "code",
   "execution_count": 110,
   "id": "1e7c6bbb",
   "metadata": {},
   "outputs": [
    {
     "data": {
      "text/plain": [
       "False"
      ]
     },
     "execution_count": 110,
     "metadata": {},
     "output_type": "execute_result"
    }
   ],
   "source": [
    "not True"
   ]
  },
  {
   "cell_type": "code",
   "execution_count": 111,
   "id": "529ec79e",
   "metadata": {},
   "outputs": [
    {
     "data": {
      "text/plain": [
       "True"
      ]
     },
     "execution_count": 111,
     "metadata": {},
     "output_type": "execute_result"
    }
   ],
   "source": [
    "a = [1, 2, 3]\n",
    "\n",
    "1 in a"
   ]
  },
  {
   "cell_type": "code",
   "execution_count": 112,
   "id": "6a71995a",
   "metadata": {},
   "outputs": [
    {
     "data": {
      "text/plain": [
       "True"
      ]
     },
     "execution_count": 112,
     "metadata": {},
     "output_type": "execute_result"
    }
   ],
   "source": [
    "4 not in a"
   ]
  },
  {
   "cell_type": "code",
   "execution_count": 113,
   "id": "f3bbe4e3",
   "metadata": {},
   "outputs": [
    {
     "name": "stdout",
     "output_type": "stream",
     "text": [
      "True\n",
      "False\n",
      "True\n"
     ]
    }
   ],
   "source": [
    "a = [1, 2]\n",
    "b = a\n",
    "c = a.copy()\n",
    "\n",
    "print(a is b)\n",
    "print(a is c)\n",
    "print(a == b == c)"
   ]
  },
  {
   "cell_type": "markdown",
   "id": "ffca204c",
   "metadata": {},
   "source": [
    "# 3 Control Flow Statement"
   ]
  },
  {
   "cell_type": "markdown",
   "id": "c4dd328d",
   "metadata": {},
   "source": [
    "## 3.1"
   ]
  },
  {
   "cell_type": "code",
   "execution_count": 116,
   "id": "b97b557c",
   "metadata": {},
   "outputs": [
    {
     "name": "stdout",
     "output_type": "stream",
     "text": [
      "Enter a score: 33\n"
     ]
    }
   ],
   "source": [
    "score = input('Enter a score: ')"
   ]
  },
  {
   "cell_type": "code",
   "execution_count": 117,
   "id": "18681b13",
   "metadata": {},
   "outputs": [
    {
     "data": {
      "text/plain": [
       "str"
      ]
     },
     "execution_count": 117,
     "metadata": {},
     "output_type": "execute_result"
    }
   ],
   "source": [
    "type(score)"
   ]
  },
  {
   "cell_type": "code",
   "execution_count": 118,
   "id": "398f40b3",
   "metadata": {},
   "outputs": [],
   "source": [
    "score = float(score)"
   ]
  },
  {
   "cell_type": "code",
   "execution_count": 120,
   "id": "27c3e23a",
   "metadata": {},
   "outputs": [
    {
     "name": "stdout",
     "output_type": "stream",
     "text": [
      "F\n"
     ]
    }
   ],
   "source": [
    "if 100 >= score >= 60:\n",
    "    print('A')\n",
    "elif 60 > score > 40:\n",
    "    print('B')\n",
    "else:\n",
    "    print('F')"
   ]
  },
  {
   "cell_type": "markdown",
   "id": "417d5e85",
   "metadata": {},
   "source": [
    "## 3.2\n",
    "### 3.2.1"
   ]
  },
  {
   "cell_type": "code",
   "execution_count": null,
   "id": "7f0cbb91",
   "metadata": {},
   "outputs": [],
   "source": []
  },
  {
   "cell_type": "code",
   "execution_count": null,
   "id": "5a6b4e23",
   "metadata": {},
   "outputs": [],
   "source": []
  },
  {
   "cell_type": "code",
   "execution_count": null,
   "id": "776e4a85",
   "metadata": {},
   "outputs": [],
   "source": []
  },
  {
   "cell_type": "code",
   "execution_count": null,
   "id": "5e8b7fd1",
   "metadata": {},
   "outputs": [],
   "source": []
  },
  {
   "cell_type": "code",
   "execution_count": null,
   "id": "4abdd92a",
   "metadata": {},
   "outputs": [],
   "source": []
  },
  {
   "cell_type": "code",
   "execution_count": null,
   "id": "fc847ffb",
   "metadata": {},
   "outputs": [],
   "source": []
  },
  {
   "cell_type": "code",
   "execution_count": null,
   "id": "808b3e00",
   "metadata": {},
   "outputs": [],
   "source": []
  },
  {
   "cell_type": "code",
   "execution_count": null,
   "id": "50339490",
   "metadata": {},
   "outputs": [],
   "source": []
  },
  {
   "cell_type": "code",
   "execution_count": null,
   "id": "97ffa8ba",
   "metadata": {},
   "outputs": [],
   "source": []
  },
  {
   "cell_type": "code",
   "execution_count": null,
   "id": "b3233102",
   "metadata": {},
   "outputs": [],
   "source": []
  },
  {
   "cell_type": "code",
   "execution_count": null,
   "id": "4995dd0a",
   "metadata": {},
   "outputs": [],
   "source": []
  },
  {
   "cell_type": "code",
   "execution_count": null,
   "id": "c5480823",
   "metadata": {},
   "outputs": [],
   "source": []
  },
  {
   "cell_type": "code",
   "execution_count": 11,
   "id": "f3326e51",
   "metadata": {},
   "outputs": [],
   "source": [
    "import re"
   ]
  },
  {
   "cell_type": "code",
   "execution_count": 13,
   "id": "4c78bf0d",
   "metadata": {},
   "outputs": [
    {
     "name": "stdout",
     "output_type": "stream",
     "text": [
      "None\n"
     ]
    }
   ],
   "source": [
    "print(re.match('com', 'www.dakgjakjgakdlg.comb'))"
   ]
  },
  {
   "cell_type": "code",
   "execution_count": 15,
   "id": "df35d4f2",
   "metadata": {},
   "outputs": [
    {
     "name": "stdout",
     "output_type": "stream",
     "text": [
      "(19, 22)\n"
     ]
    }
   ],
   "source": [
    "print(re.search('com', 'www.fdafadfafdafaf.com').span())"
   ]
  },
  {
   "cell_type": "code",
   "execution_count": 24,
   "id": "38e15553",
   "metadata": {},
   "outputs": [
    {
     "name": "stdout",
     "output_type": "stream",
     "text": [
      "Cats are smarter than fish\n",
      "Cats\n",
      "fish\n"
     ]
    }
   ],
   "source": [
    "line = \"Cats are smarter than fish\"\n",
    "\n",
    "searchObj = re.search(r'(.*) are smarter than (.*)', line)\n",
    "\n",
    "if searchObj:\n",
    "    print(searchObj.group())\n",
    "    print(searchObj.group(1))\n",
    "    print(searchObj.group(2))"
   ]
  },
  {
   "cell_type": "code",
   "execution_count": 32,
   "id": "243ccba3",
   "metadata": {},
   "outputs": [
    {
     "name": "stdout",
     "output_type": "stream",
     "text": [
      "None\n"
     ]
    }
   ],
   "source": [
    "pattern = re.compile(r'\\d+')\n",
    "\n",
    "pattern.match('asjgfa24DLKJ;l42242')\n",
    "\n",
    "print(n)"
   ]
  },
  {
   "cell_type": "code",
   "execution_count": 29,
   "id": "c9e01218",
   "metadata": {},
   "outputs": [
    {
     "data": {
      "text/plain": [
       "<re.Match object; span=(11, 15), match='3242'>"
      ]
     },
     "execution_count": 29,
     "metadata": {},
     "output_type": "execute_result"
    }
   ],
   "source": [
    "pattern.search('askjhfflksa3242ajkdhfa42jdak')"
   ]
  },
  {
   "cell_type": "code",
   "execution_count": null,
   "id": "b21dc9f1",
   "metadata": {},
   "outputs": [],
   "source": []
  },
  {
   "cell_type": "code",
   "execution_count": null,
   "id": "22aad700",
   "metadata": {},
   "outputs": [],
   "source": []
  },
  {
   "cell_type": "code",
   "execution_count": null,
   "id": "c056f5d3",
   "metadata": {},
   "outputs": [],
   "source": []
  },
  {
   "cell_type": "code",
   "execution_count": null,
   "id": "1e20e2fe",
   "metadata": {},
   "outputs": [],
   "source": []
  },
  {
   "cell_type": "markdown",
   "id": "fab9d202",
   "metadata": {},
   "source": [
    "# NumPy"
   ]
  },
  {
   "cell_type": "code",
   "execution_count": 121,
   "id": "68b24515",
   "metadata": {},
   "outputs": [],
   "source": [
    "import numpy as np"
   ]
  },
  {
   "cell_type": "markdown",
   "id": "d337847a",
   "metadata": {},
   "source": [
    "## 1. Array Creation"
   ]
  },
  {
   "cell_type": "code",
   "execution_count": 122,
   "id": "820d42da",
   "metadata": {},
   "outputs": [
    {
     "name": "stdout",
     "output_type": "stream",
     "text": [
      "[1 2 3 4 5 6]\n"
     ]
    }
   ],
   "source": [
    "a = np.array([1, 2, 3, 4, 5, 6])\n",
    "\n",
    "print(a)"
   ]
  },
  {
   "cell_type": "code",
   "execution_count": 124,
   "id": "23065f67",
   "metadata": {},
   "outputs": [
    {
     "name": "stdout",
     "output_type": "stream",
     "text": [
      "[[1 2 3]\n",
      " [4 5 6]]\n"
     ]
    }
   ],
   "source": [
    "b = np.array([[1, 2, 3], [4, 5, 6]])\n",
    "\n",
    "print(b)"
   ]
  },
  {
   "cell_type": "markdown",
   "id": "62a29412",
   "metadata": {},
   "source": [
    "### 1.2 np.zeros(), np.ones(), np.empty()"
   ]
  },
  {
   "cell_type": "code",
   "execution_count": 126,
   "id": "d0b69132",
   "metadata": {},
   "outputs": [
    {
     "name": "stdout",
     "output_type": "stream",
     "text": [
      "[[0. 0.]\n",
      " [0. 0.]]\n"
     ]
    }
   ],
   "source": [
    "c = np.zeros([2, 2])\n",
    "\n",
    "print(c)"
   ]
  },
  {
   "cell_type": "code",
   "execution_count": 127,
   "id": "1fd5c8dc",
   "metadata": {},
   "outputs": [
    {
     "name": "stdout",
     "output_type": "stream",
     "text": [
      "[[1. 1.]\n",
      " [1. 1.]]\n"
     ]
    }
   ],
   "source": [
    "d = np.ones([2, 2])\n",
    "\n",
    "print(d)"
   ]
  },
  {
   "cell_type": "code",
   "execution_count": 130,
   "id": "70a2c051",
   "metadata": {},
   "outputs": [
    {
     "name": "stdout",
     "output_type": "stream",
     "text": [
      "[[4.63934567e-310 0.00000000e+000 1.01855798e-312 9.54898106e-313]\n",
      " [1.03977794e-312 1.01855798e-312 1.23075756e-312 1.18831764e-312]\n",
      " [1.06099790e-312 9.76118064e-313 1.20953760e-312 1.90979621e-312]]\n"
     ]
    }
   ],
   "source": [
    "e = np.empty([3, 4]) # random initial content\n",
    "\n",
    "print(e)"
   ]
  },
  {
   "cell_type": "markdown",
   "id": "0f249f29",
   "metadata": {},
   "source": [
    "### 1.3 np.eye()"
   ]
  },
  {
   "cell_type": "code",
   "execution_count": 137,
   "id": "ff7bb9e6",
   "metadata": {},
   "outputs": [
    {
     "name": "stdout",
     "output_type": "stream",
     "text": [
      "[[1. 0. 0. 0. 0.]\n",
      " [0. 1. 0. 0. 0.]\n",
      " [0. 0. 1. 0. 0.]\n",
      " [0. 0. 0. 1. 0.]\n",
      " [0. 0. 0. 0. 1.]]\n"
     ]
    }
   ],
   "source": [
    "print(np.eye(5))"
   ]
  },
  {
   "cell_type": "markdown",
   "id": "533a19ae",
   "metadata": {},
   "source": [
    "### 1.4 np.asarray()"
   ]
  },
  {
   "cell_type": "code",
   "execution_count": 138,
   "id": "192ff1e7",
   "metadata": {},
   "outputs": [
    {
     "name": "stdout",
     "output_type": "stream",
     "text": [
      "[1 2 3 4 5]\n"
     ]
    }
   ],
   "source": [
    "e = np.asarray([1, 2, 3, 4, 5])\n",
    "print(e)"
   ]
  },
  {
   "cell_type": "markdown",
   "id": "f8b5c5ba",
   "metadata": {},
   "source": [
    "### 1.5 difference between array() and asarray()"
   ]
  },
  {
   "cell_type": "code",
   "execution_count": 142,
   "id": "baf65084",
   "metadata": {},
   "outputs": [
    {
     "name": "stdout",
     "output_type": "stream",
     "text": [
      "False\n",
      "False\n",
      "True\n",
      "False\n"
     ]
    }
   ],
   "source": [
    "a = np.array([1, 2], dtype=np.float32)\n",
    "\n",
    "print(np.array(a, dtype=np.float32) is a)\n",
    "print(np.array(a, dtype=np.float64) is a)\n",
    "print(np.asarray(a, dtype=np.float32) is a)\n",
    "print(np.asarray(a, dtype=np.float64) is a)"
   ]
  },
  {
   "cell_type": "markdown",
   "id": "d72b093e",
   "metadata": {},
   "source": [
    "### 1.6 np.arange()"
   ]
  },
  {
   "cell_type": "code",
   "execution_count": 143,
   "id": "4595d318",
   "metadata": {},
   "outputs": [
    {
     "name": "stdout",
     "output_type": "stream",
     "text": [
      "[10 12 14 16 18]\n"
     ]
    }
   ],
   "source": [
    "f = np.arange(10, 20, 2)\n",
    "\n",
    "print(f)"
   ]
  },
  {
   "cell_type": "markdown",
   "id": "e58aee1f",
   "metadata": {},
   "source": [
    "### 1.7 np.linspace()"
   ]
  },
  {
   "cell_type": "code",
   "execution_count": 144,
   "id": "71bcfdca",
   "metadata": {},
   "outputs": [
    {
     "name": "stdout",
     "output_type": "stream",
     "text": [
      "[ 0. 11. 22. 33. 44. 55. 66. 77. 88. 99.]\n"
     ]
    }
   ],
   "source": [
    "g = np.linspace(0, 99, 10)\n",
    "\n",
    "print(g)"
   ]
  },
  {
   "cell_type": "markdown",
   "id": "bc526353",
   "metadata": {},
   "source": [
    "## 2. Important attributes of a ndarray object"
   ]
  },
  {
   "cell_type": "code",
   "execution_count": 146,
   "id": "0c03b2ba",
   "metadata": {},
   "outputs": [
    {
     "data": {
      "text/plain": [
       "(3, 2)"
      ]
     },
     "execution_count": 146,
     "metadata": {},
     "output_type": "execute_result"
    }
   ],
   "source": [
    "a = np.array([[1, 2], [3, 4], [5, 6]])\n",
    "\n",
    "a.shape"
   ]
  },
  {
   "cell_type": "code",
   "execution_count": 147,
   "id": "ded235cd",
   "metadata": {},
   "outputs": [
    {
     "data": {
      "text/plain": [
       "6"
      ]
     },
     "execution_count": 147,
     "metadata": {},
     "output_type": "execute_result"
    }
   ],
   "source": [
    "a.size"
   ]
  },
  {
   "cell_type": "code",
   "execution_count": 148,
   "id": "d6848e6c",
   "metadata": {},
   "outputs": [
    {
     "data": {
      "text/plain": [
       "2"
      ]
     },
     "execution_count": 148,
     "metadata": {},
     "output_type": "execute_result"
    }
   ],
   "source": [
    "a.ndim"
   ]
  },
  {
   "cell_type": "code",
   "execution_count": 149,
   "id": "e160961c",
   "metadata": {},
   "outputs": [
    {
     "data": {
      "text/plain": [
       "dtype('int64')"
      ]
     },
     "execution_count": 149,
     "metadata": {},
     "output_type": "execute_result"
    }
   ],
   "source": [
    "a.dtype"
   ]
  },
  {
   "cell_type": "code",
   "execution_count": 150,
   "id": "4136478d",
   "metadata": {},
   "outputs": [
    {
     "data": {
      "text/plain": [
       "<memory at 0x7f10103e8ee0>"
      ]
     },
     "execution_count": 150,
     "metadata": {},
     "output_type": "execute_result"
    }
   ],
   "source": [
    "a.data"
   ]
  },
  {
   "cell_type": "code",
   "execution_count": 151,
   "id": "3ed137f5",
   "metadata": {},
   "outputs": [
    {
     "data": {
      "text/plain": [
       "8"
      ]
     },
     "execution_count": 151,
     "metadata": {},
     "output_type": "execute_result"
    }
   ],
   "source": [
    "a.itemsize"
   ]
  },
  {
   "cell_type": "markdown",
   "id": "c325f040",
   "metadata": {},
   "source": [
    "## 3. Indexing, slicing and iterating"
   ]
  },
  {
   "cell_type": "code",
   "execution_count": 152,
   "id": "8f26b943",
   "metadata": {},
   "outputs": [
    {
     "name": "stdout",
     "output_type": "stream",
     "text": [
      "[[1 2]\n",
      " [3 4]]\n",
      "2\n"
     ]
    }
   ],
   "source": [
    "a = np.array([[1, 2], [3, 4]])\n",
    "b = a[0][1]\n",
    "\n",
    "print(a)\n",
    "print(b)"
   ]
  },
  {
   "cell_type": "code",
   "execution_count": 153,
   "id": "8046464c",
   "metadata": {},
   "outputs": [
    {
     "name": "stdout",
     "output_type": "stream",
     "text": [
      "[2 4 6]\n",
      "[2 3 4 5 6 7]\n",
      "2\n",
      "[2 3 4 5 6 7 8 9]\n"
     ]
    }
   ],
   "source": [
    "a = np.arange(10)\n",
    "\n",
    "print(a[2:8:2])\n",
    "print(a[2:8])\n",
    "print(a[2])\n",
    "print(a[2:])"
   ]
  },
  {
   "cell_type": "markdown",
   "id": "84874d3a",
   "metadata": {},
   "source": [
    "## 4. Change the shape of an array"
   ]
  },
  {
   "cell_type": "code",
   "execution_count": 154,
   "id": "4b0b4b0a",
   "metadata": {},
   "outputs": [
    {
     "name": "stdout",
     "output_type": "stream",
     "text": [
      "[0 1 2 3 4 5]\n",
      "[[0 1 2]\n",
      " [3 4 5]]\n"
     ]
    }
   ],
   "source": [
    "a = np.arange(6)\n",
    "b = a.reshape(2, 3)\n",
    "\n",
    "print(a)\n",
    "print(b)"
   ]
  },
  {
   "cell_type": "code",
   "execution_count": 155,
   "id": "51cc9b10",
   "metadata": {},
   "outputs": [
    {
     "ename": "ValueError",
     "evalue": "cannot reshape array of size 6 into shape (4,3)",
     "output_type": "error",
     "traceback": [
      "\u001b[0;31m---------------------------------------------------------------------------\u001b[0m",
      "\u001b[0;31mValueError\u001b[0m                                Traceback (most recent call last)",
      "Input \u001b[0;32mIn [155]\u001b[0m, in \u001b[0;36m<module>\u001b[0;34m\u001b[0m\n\u001b[0;32m----> 1\u001b[0m \u001b[43mb\u001b[49m\u001b[38;5;241;43m.\u001b[39;49m\u001b[43mreshape\u001b[49m\u001b[43m(\u001b[49m\u001b[38;5;241;43m4\u001b[39;49m\u001b[43m,\u001b[49m\u001b[43m \u001b[49m\u001b[38;5;241;43m3\u001b[39;49m\u001b[43m)\u001b[49m\n",
      "\u001b[0;31mValueError\u001b[0m: cannot reshape array of size 6 into shape (4,3)"
     ]
    }
   ],
   "source": [
    "b.reshape(4, 3)"
   ]
  },
  {
   "cell_type": "markdown",
   "id": "a3d8e7ff",
   "metadata": {},
   "source": [
    "## 5. Broadcasting"
   ]
  },
  {
   "cell_type": "code",
   "execution_count": 156,
   "id": "b175424c",
   "metadata": {},
   "outputs": [
    {
     "name": "stdout",
     "output_type": "stream",
     "text": [
      "[ 1  4  9 16]\n"
     ]
    }
   ],
   "source": [
    "a = np.array([1, 2, 3, 4])\n",
    "b = np.array([1, 2, 3, 4])\n",
    "\n",
    "print(a * b)"
   ]
  },
  {
   "cell_type": "code",
   "execution_count": 157,
   "id": "23035c7a",
   "metadata": {},
   "outputs": [
    {
     "name": "stdout",
     "output_type": "stream",
     "text": [
      "(3, 3)\n",
      "(3,)\n"
     ]
    }
   ],
   "source": [
    "a = np.array([[1, 2, 3], [4, 5, 6], [7, 8, 9]])\n",
    "b = np.array([1, 2, 3])\n",
    "\n",
    "print(a.shape)\n",
    "print(b.shape)"
   ]
  },
  {
   "cell_type": "code",
   "execution_count": 158,
   "id": "b14a5e8c",
   "metadata": {},
   "outputs": [
    {
     "data": {
      "text/plain": [
       "array([[1, 2, 3],\n",
       "       [1, 2, 3],\n",
       "       [1, 2, 3]])"
      ]
     },
     "execution_count": 158,
     "metadata": {},
     "output_type": "execute_result"
    }
   ],
   "source": [
    "np.array([b, b, b])"
   ]
  },
  {
   "cell_type": "code",
   "execution_count": 159,
   "id": "2b5c2f7b",
   "metadata": {},
   "outputs": [
    {
     "name": "stdout",
     "output_type": "stream",
     "text": [
      "[[1 2 3]\n",
      " [4 5 6]\n",
      " [7 8 9]]\n",
      "[[ 2  4  6]\n",
      " [ 5  7  9]\n",
      " [ 8 10 12]]\n"
     ]
    }
   ],
   "source": [
    "c = a + b\n",
    "\n",
    "print(a)\n",
    "\n",
    "print(c)"
   ]
  },
  {
   "cell_type": "markdown",
   "id": "d9bf7d1c",
   "metadata": {},
   "source": [
    "# 6. NumPy common functions"
   ]
  },
  {
   "cell_type": "markdown",
   "id": "fc267512",
   "metadata": {},
   "source": [
    "## 6.1 ndarray.flat()"
   ]
  },
  {
   "cell_type": "code",
   "execution_count": 163,
   "id": "07cf993b",
   "metadata": {},
   "outputs": [
    {
     "name": "stdout",
     "output_type": "stream",
     "text": [
      "[[1 2 3]\n",
      " [4 5 6]\n",
      " [7 8 9]]\n",
      "[1 2 3 4 5 6 7 8 9]\n"
     ]
    }
   ],
   "source": [
    "a = np.array([[1, 2, 3], [4, 5, 6], [7, 8, 9]])\n",
    "\n",
    "print(a)\n",
    "\n",
    "print(a.flat[::])"
   ]
  },
  {
   "cell_type": "markdown",
   "id": "5bdbc69d",
   "metadata": {},
   "source": [
    "## 6.2 ndarray.transpose()"
   ]
  },
  {
   "cell_type": "code",
   "execution_count": 164,
   "id": "8d28206e",
   "metadata": {},
   "outputs": [
    {
     "name": "stdout",
     "output_type": "stream",
     "text": [
      "[[1 4 7]\n",
      " [2 5 8]\n",
      " [3 6 9]]\n"
     ]
    }
   ],
   "source": [
    "a = np.array([[1, 2, 3], [4, 5, 6], [7, 8, 9]])\n",
    "\n",
    "print(np.transpose(a))"
   ]
  },
  {
   "cell_type": "markdown",
   "id": "28508f68",
   "metadata": {},
   "source": [
    "## 6.3 numpy.concatenate(...)"
   ]
  },
  {
   "cell_type": "code",
   "execution_count": 165,
   "id": "e18a2018",
   "metadata": {},
   "outputs": [
    {
     "name": "stdout",
     "output_type": "stream",
     "text": [
      "[[0 1 2]\n",
      " [3 4 5]]\n",
      "[[ 7  8  9]\n",
      " [10 11 12]]\n"
     ]
    }
   ],
   "source": [
    "a = np.arange(6).reshape(2, 3)\n",
    "b = np.arange(7, 13).reshape(2, 3)\n",
    "\n",
    "print(a, b, sep='\\n')"
   ]
  },
  {
   "cell_type": "code",
   "execution_count": 169,
   "id": "f369f86b",
   "metadata": {},
   "outputs": [
    {
     "name": "stdout",
     "output_type": "stream",
     "text": [
      "[[ 0  1  2]\n",
      " [ 3  4  5]\n",
      " [ 7  8  9]\n",
      " [10 11 12]]\n",
      "\n",
      "[[ 0  1  2]\n",
      " [ 3  4  5]\n",
      " [ 7  8  9]\n",
      " [10 11 12]]\n",
      "\n",
      "[[ 0  1  2  7  8  9]\n",
      " [ 3  4  5 10 11 12]]\n"
     ]
    }
   ],
   "source": [
    "print(np.concatenate((a, b)))\n",
    "print()\n",
    "print(np.concatenate((a, b), axis=0))\n",
    "print()\n",
    "print(np.concatenate((a, b), axis=1))"
   ]
  },
  {
   "cell_type": "code",
   "execution_count": 176,
   "id": "d984558c",
   "metadata": {},
   "outputs": [
    {
     "name": "stdout",
     "output_type": "stream",
     "text": [
      "[[[ 0  1  2]\n",
      "  [ 3  4  5]]\n",
      "\n",
      " [[ 6  7  8]\n",
      "  [ 9 10 11]]]\n",
      "----\n",
      "[[[ 0  6]\n",
      "  [ 3  9]]\n",
      "\n",
      " [[ 1  7]\n",
      "  [ 4 10]]\n",
      "\n",
      " [[ 2  8]\n",
      "  [ 5 11]]]\n"
     ]
    }
   ],
   "source": [
    "a = np.arange(12).reshape(2, 2, 3)\n",
    "b = np.transpose(a, (2, 1, 0))\n",
    "\n",
    "print(a)\n",
    "print('----')\n",
    "print(b)"
   ]
  },
  {
   "cell_type": "markdown",
   "id": "59c846b2",
   "metadata": {},
   "source": [
    "### 6.4 numpy.stack(...)"
   ]
  },
  {
   "cell_type": "code",
   "execution_count": 204,
   "id": "759e3b36",
   "metadata": {},
   "outputs": [
    {
     "name": "stdout",
     "output_type": "stream",
     "text": [
      "---\n",
      "[[1 4]\n",
      " [2 5]\n",
      " [3 6]]\n",
      "---\n",
      "[[1 2 3]\n",
      " [4 5 6]]\n",
      "---\n",
      "[[1 4]\n",
      " [2 5]\n",
      " [3 6]]\n"
     ]
    }
   ],
   "source": [
    "a = np.array([1, 2, 3])\n",
    "b = np.array([4, 5, 6])\n",
    "\n",
    "print('---')\n",
    "print(np.stack((a, b), -1)) # last dimenstion\n",
    "print('---')\n",
    "print(np.stack((a, b), 0)) # first dimension\n",
    "print('---')\n",
    "print(np.stack((a, b), 1))"
   ]
  },
  {
   "cell_type": "markdown",
   "id": "7329ac3f",
   "metadata": {},
   "source": [
    "### 6.5 numpy.append(...)"
   ]
  },
  {
   "cell_type": "code",
   "execution_count": 217,
   "id": "fa032e4d",
   "metadata": {},
   "outputs": [
    {
     "name": "stdout",
     "output_type": "stream",
     "text": [
      "b\n",
      " [[ 1  2  3  4]\n",
      " [ 4  5  6  7]\n",
      " [31 47  8  9]]\n",
      "c\n",
      " [ 1  2  3  4  4  5  6  7  7 31  8  9]\n"
     ]
    }
   ],
   "source": [
    "a = np.array([[1, 2, 3, 4], [4, 5, 6, 7]])\n",
    "b = np.append(a, [[31, 47, 8, 9]], axis=0)\n",
    "c = np.append(a, [[7, 31, 8, 9]])\n",
    "\n",
    "print('b\\n', b)\n",
    "print('c\\n', c)"
   ]
  },
  {
   "cell_type": "markdown",
   "id": "a8b60cc9",
   "metadata": {},
   "source": [
    "### 6.6 numpy.insert(...)"
   ]
  },
  {
   "cell_type": "code",
   "execution_count": 222,
   "id": "376cca8d",
   "metadata": {},
   "outputs": [
    {
     "name": "stdout",
     "output_type": "stream",
     "text": [
      "[[0 1 2]\n",
      " [3 4 5]]\n",
      "[[0 1 7 2]\n",
      " [3 4 8 5]]\n",
      "[0 1 7 8 2 3 4 5]\n"
     ]
    }
   ],
   "source": [
    "a = np.arange(6).reshape(2, 3)\n",
    "b = np.insert(a, 2, [7, 8], axis=1)\n",
    "c = np.insert(a, 2, [7, 8])\n",
    "\n",
    "print(a)\n",
    "\n",
    "print(b)\n",
    "\n",
    "print(c)"
   ]
  },
  {
   "cell_type": "markdown",
   "id": "9151d3cf",
   "metadata": {},
   "source": [
    "### 6.7 numpy.delete(...)"
   ]
  },
  {
   "cell_type": "code",
   "execution_count": 224,
   "id": "83c4d013",
   "metadata": {},
   "outputs": [
    {
     "name": "stdout",
     "output_type": "stream",
     "text": [
      "[[0 1 2]\n",
      " [3 4 5]]\n",
      "[[0 2]\n",
      " [3 5]]\n",
      "[0 2 3 4 5]\n"
     ]
    }
   ],
   "source": [
    "a = np.arange(6).reshape(2, 3)\n",
    "b = np.delete(a, 1, axis=1)\n",
    "c = np.delete(a, 1)\n",
    "\n",
    "print(a)\n",
    "print(b)\n",
    "print(c)"
   ]
  },
  {
   "cell_type": "markdown",
   "id": "ae410c4a",
   "metadata": {},
   "source": [
    "## 7. Matrix"
   ]
  },
  {
   "cell_type": "code",
   "execution_count": 228,
   "id": "87963d1f",
   "metadata": {},
   "outputs": [],
   "source": [
    "from numpy import matlib as ml"
   ]
  },
  {
   "cell_type": "markdown",
   "id": "267fae34",
   "metadata": {},
   "source": [
    "### 7.1 "
   ]
  },
  {
   "cell_type": "code",
   "execution_count": 230,
   "id": "9f2f0046",
   "metadata": {},
   "outputs": [
    {
     "name": "stdout",
     "output_type": "stream",
     "text": [
      "[[0. 0.]\n",
      " [0. 0.]]\n",
      "[[1. 1.]\n",
      " [1. 1.]]\n"
     ]
    }
   ],
   "source": [
    "a = ml.zeros((2, 2))\n",
    "b = ml.ones((2, 2))\n",
    "\n",
    "print(a)\n",
    "print(b)"
   ]
  },
  {
   "cell_type": "markdown",
   "id": "93eae49d",
   "metadata": {},
   "source": [
    "### 7.2 create a diagonal matrix"
   ]
  },
  {
   "cell_type": "code",
   "execution_count": 231,
   "id": "9e08b611",
   "metadata": {},
   "outputs": [
    {
     "name": "stdout",
     "output_type": "stream",
     "text": [
      "[[1. 0. 0.]\n",
      " [0. 1. 0.]\n",
      " [0. 0. 1.]]\n"
     ]
    }
   ],
   "source": [
    "print(ml.eye(3))"
   ]
  },
  {
   "cell_type": "markdown",
   "id": "f2b12967",
   "metadata": {},
   "source": [
    "### 7.3 transfer between array and matrix"
   ]
  },
  {
   "cell_type": "code",
   "execution_count": 232,
   "id": "43967cf6",
   "metadata": {},
   "outputs": [
    {
     "name": "stdout",
     "output_type": "stream",
     "text": [
      "[[0. 0.]\n",
      " [0. 0.]]\n",
      "<class 'numpy.matrix'>\n"
     ]
    }
   ],
   "source": [
    "d = np.array([[1, 2], [3, 4]])\n",
    "d = np.mat(a)\n",
    "\n",
    "print(d)\n",
    "print(type(d))"
   ]
  },
  {
   "cell_type": "code",
   "execution_count": 240,
   "id": "2c030eaf",
   "metadata": {},
   "outputs": [
    {
     "name": "stdout",
     "output_type": "stream",
     "text": [
      "[[1 2 3]\n",
      " [4 5 6]]\n",
      "<class 'numpy.matrix'>\n",
      "[[1 2 3]\n",
      " [4 5 6]]\n",
      "<class 'numpy.ndarray'>\n"
     ]
    }
   ],
   "source": [
    "a = np.mat([[1, 2, 3], [4, 5, 6]])\n",
    "b = a.getA()\n",
    "\n",
    "print(a)\n",
    "print(type(a))\n",
    "\n",
    "print(b)\n",
    "print(type(b))"
   ]
  },
  {
   "cell_type": "markdown",
   "id": "2c93e61b",
   "metadata": {},
   "source": [
    "### 7.4 randomly create a matrix"
   ]
  },
  {
   "cell_type": "code",
   "execution_count": 241,
   "id": "6bcb3ce0",
   "metadata": {},
   "outputs": [
    {
     "name": "stdout",
     "output_type": "stream",
     "text": [
      "[[0.80289156 0.18006037 0.83595552 0.09277638]\n",
      " [0.69245049 0.19793241 0.25897067 0.12566004]\n",
      " [0.21881957 0.25560658 0.99709593 0.94696886]]\n"
     ]
    }
   ],
   "source": [
    "print(ml.rand(3, 4))"
   ]
  },
  {
   "cell_type": "markdown",
   "id": "0dd1afc6",
   "metadata": {},
   "source": [
    "### 7.5 mat/matrix/asmatrix"
   ]
  },
  {
   "cell_type": "code",
   "execution_count": 248,
   "id": "6c0089d0",
   "metadata": {},
   "outputs": [
    {
     "name": "stdout",
     "output_type": "stream",
     "text": [
      "[1 2 3]\n",
      "\n",
      "[[1 2 3]]\n",
      "\n",
      "[[1 2 3]]\n",
      "\n",
      "[[1 2 3]]\n"
     ]
    }
   ],
   "source": [
    "a = np.array([1, 2, 3])\n",
    "b = np.mat(a)\n",
    "d = np.asmatrix(a)\n",
    "c = np.matrix(a)\n",
    "\n",
    "print(a, b, c, d, sep='\\n\\n')"
   ]
  },
  {
   "cell_type": "code",
   "execution_count": 249,
   "id": "a5be6318",
   "metadata": {},
   "outputs": [
    {
     "name": "stdout",
     "output_type": "stream",
     "text": [
      "[[2 0 0]\n",
      " [0 1 1]\n",
      " [0 0 2]]\n",
      "\n",
      "[[ 0.5  0.   0. ]\n",
      " [ 0.   1.  -0.5]\n",
      " [ 0.   0.   0.5]]\n"
     ]
    }
   ],
   "source": [
    "a = np.matrix([[2, 0, 0],\n",
    "               [0, 1, 1],\n",
    "               [0, 0, 2]])\n",
    "\n",
    "b = a.I\n",
    "\n",
    "print(a, b, sep='\\n\\n')"
   ]
  },
  {
   "cell_type": "markdown",
   "id": "9c55565e",
   "metadata": {},
   "source": [
    "### 7.7 matrix operations"
   ]
  },
  {
   "cell_type": "code",
   "execution_count": 245,
   "id": "a1a2928e",
   "metadata": {},
   "outputs": [
    {
     "name": "stdout",
     "output_type": "stream",
     "text": [
      "[[1 0]\n",
      " [0 1]]\n",
      "[[1 1]\n",
      " [2 2]]\n",
      "[[1 1]\n",
      " [2 2]]\n",
      "[[1 1]\n",
      " [2 2]]\n"
     ]
    }
   ],
   "source": [
    "a = np.array([[1, 0], [0, 1]])\n",
    "b = np.array([[1, 1], [2, 2]])\n",
    "\n",
    "print(a, b, sep='\\n')\n",
    "\n",
    "print(np.dot(a, b))\n",
    "\n",
    "print(a@b)"
   ]
  },
  {
   "cell_type": "code",
   "execution_count": 244,
   "id": "678fc800",
   "metadata": {},
   "outputs": [
    {
     "name": "stdout",
     "output_type": "stream",
     "text": [
      "[[1 0]\n",
      " [0 2]]\n",
      "[[1 0]\n",
      " [0 2]]\n"
     ]
    }
   ],
   "source": [
    "print(np.multiply(a, b))\n",
    "\n",
    "print(a * b)"
   ]
  },
  {
   "cell_type": "markdown",
   "id": "c8467424",
   "metadata": {},
   "source": [
    "### 7.9 Determinant"
   ]
  },
  {
   "cell_type": "code",
   "execution_count": 251,
   "id": "6653b64d",
   "metadata": {},
   "outputs": [
    {
     "name": "stdout",
     "output_type": "stream",
     "text": [
      "[[1 2]\n",
      " [3 4]]\n",
      "\n",
      "-2.0000000000000004\n"
     ]
    }
   ],
   "source": [
    "a = np.matrix([[1, 2],\n",
    "               [3, 4]])\n",
    "\n",
    "b = np.linalg.det(a)\n",
    "\n",
    "print(a, b, sep='\\n\\n')"
   ]
  },
  {
   "cell_type": "markdown",
   "id": "d2c32077",
   "metadata": {},
   "source": [
    "### 7.10 sum, max, min"
   ]
  },
  {
   "cell_type": "code",
   "execution_count": 253,
   "id": "74c63d4b",
   "metadata": {},
   "outputs": [
    {
     "name": "stdout",
     "output_type": "stream",
     "text": [
      "[[4 6]]\n",
      "[[3]\n",
      " [7]]\n"
     ]
    }
   ],
   "source": [
    "a = np.mat([[1, 2],\n",
    "            [3, 4]])\n",
    "\n",
    "print(a.sum(axis=0))\n",
    "print(a.sum(axis=1))"
   ]
  },
  {
   "cell_type": "code",
   "execution_count": 254,
   "id": "48d01ef3",
   "metadata": {},
   "outputs": [
    {
     "name": "stdout",
     "output_type": "stream",
     "text": [
      "4\n",
      "1\n"
     ]
    }
   ],
   "source": [
    "print(a.max())\n",
    "\n",
    "print(e.min())"
   ]
  },
  {
   "cell_type": "markdown",
   "id": "2d76092f",
   "metadata": {},
   "source": [
    "## 8. Random sampling"
   ]
  },
  {
   "cell_type": "markdown",
   "id": "ffd88b04",
   "metadata": {},
   "source": [
    "### 8.1 Simple random data"
   ]
  },
  {
   "cell_type": "code",
   "execution_count": 257,
   "id": "c54f9a29",
   "metadata": {},
   "outputs": [
    {
     "name": "stdout",
     "output_type": "stream",
     "text": [
      "[[0.85385982 0.05392914]\n",
      " [0.11456687 0.51621015]]\n",
      "[[ 0.25749161  0.76773957]\n",
      " [ 0.21534888 -0.21319366]]\n",
      "5387\n"
     ]
    }
   ],
   "source": [
    "print(np.random.rand(2, 2))\n",
    "\n",
    "print(np.random.randn(2, 2))\n",
    "\n",
    "print(np.random.randint(0, 12031))"
   ]
  },
  {
   "cell_type": "code",
   "execution_count": 280,
   "id": "3506816a",
   "metadata": {},
   "outputs": [
    {
     "name": "stdout",
     "output_type": "stream",
     "text": [
      "[[4 3]\n",
      " [1 2]]\n"
     ]
    }
   ],
   "source": [
    "print(np.random.choice([1, 2, 3, 4, 5], (2, 2), p=[.1, .1, .2, .5, .1]))"
   ]
  },
  {
   "cell_type": "markdown",
   "id": "a4b0f74d",
   "metadata": {},
   "source": [
    "### 8.2 Permutations"
   ]
  },
  {
   "cell_type": "code",
   "execution_count": 291,
   "id": "196df9dd",
   "metadata": {},
   "outputs": [
    {
     "name": "stdout",
     "output_type": "stream",
     "text": [
      "[1 3 4 5 2]\n",
      "[2 3 1 5 4]\n"
     ]
    }
   ],
   "source": [
    "a = np.array([1, 2, 3, 4, 5])\n",
    "\n",
    "np.random.shuffle(a)\n",
    "\n",
    "print(a)\n",
    "\n",
    "print(np.random.permutation([1, 2, 3, 4, 5]))"
   ]
  },
  {
   "cell_type": "markdown",
   "id": "44fb0fae",
   "metadata": {},
   "source": [
    "### 8.3 Distributions"
   ]
  },
  {
   "cell_type": "code",
   "execution_count": 300,
   "id": "d1f8744c",
   "metadata": {},
   "outputs": [
    {
     "name": "stdout",
     "output_type": "stream",
     "text": [
      "[-0.10209483  0.01862967  0.08354771 -0.06149102 -0.0534764 ]\n",
      "[1.76736268 4.19847786]\n",
      "[5 4]\n"
     ]
    }
   ],
   "source": [
    "print(np.random.normal(0, 0.1, 5))\n",
    "\n",
    "print(np.random.uniform(0, 5, 2))\n",
    "\n",
    "print(np.random.poisson(5, 2))"
   ]
  },
  {
   "cell_type": "markdown",
   "id": "40809adc",
   "metadata": {},
   "source": [
    "## 9. Common math funcs"
   ]
  },
  {
   "cell_type": "markdown",
   "id": "dcff07b3",
   "metadata": {},
   "source": [
    "### 9.1"
   ]
  },
  {
   "cell_type": "code",
   "execution_count": 303,
   "id": "9f3776a1",
   "metadata": {},
   "outputs": [
    {
     "name": "stdout",
     "output_type": "stream",
     "text": [
      "[0.         0.5        0.70710678 0.8660254  1.        ]\n",
      "[1.00000000e+00 8.66025404e-01 7.07106781e-01 5.00000000e-01\n",
      " 6.12323400e-17]\n"
     ]
    }
   ],
   "source": [
    "a = np.array([0, 30, 45, 60, 90])\n",
    "\n",
    "print(np.sin(a * np.pi / 180))\n",
    "\n",
    "print(np.cos(a * np.pi / 180))"
   ]
  },
  {
   "cell_type": "markdown",
   "id": "e0926514",
   "metadata": {},
   "source": [
    "### 9.10"
   ]
  },
  {
   "cell_type": "code",
   "execution_count": 306,
   "id": "ce79878d",
   "metadata": {},
   "outputs": [
    {
     "name": "stdout",
     "output_type": "stream",
     "text": [
      "[1. 2. 2. 2.]\n",
      "[1.  1.5 2.  2.5]\n"
     ]
    }
   ],
   "source": [
    "print(np.around(np.array([1.0, 1.5, 2.0, 2.5])))\n",
    "\n",
    "print(np.around(np.array([1.0, 1.5, 2.0, 2.5]), decimals=1))"
   ]
  },
  {
   "cell_type": "code",
   "execution_count": 307,
   "id": "20592af1",
   "metadata": {},
   "outputs": [
    {
     "name": "stdout",
     "output_type": "stream",
     "text": [
      "[1. 1. 2. 2.]\n",
      "[1. 2. 2. 3.]\n"
     ]
    }
   ],
   "source": [
    "print(np.floor(np.array([1.0, 1.5, 2.0, 2.55])))\n",
    "\n",
    "print(np.ceil(np.array([1.0, 1.5, 2.0, 2.55])))"
   ]
  },
  {
   "cell_type": "markdown",
   "id": "0e62b749",
   "metadata": {},
   "source": [
    "### 9.3"
   ]
  },
  {
   "cell_type": "code",
   "execution_count": 311,
   "id": "4dc9b2e5",
   "metadata": {},
   "outputs": [
    {
     "name": "stdout",
     "output_type": "stream",
     "text": [
      "[5 5 5 5]\n",
      "[-3 -1  1  3]\n",
      "[0.25       0.66666667 1.5        4.        ]\n",
      "[1 2 1 0]\n",
      "[1 8 9 4]\n"
     ]
    }
   ],
   "source": [
    "a = np.array([1, 2, 3, 4])\n",
    "b = np.array([4, 3, 2, 1])\n",
    "\n",
    "print(np.add(a, b))\n",
    "print(np.subtract(a,b))\n",
    "print(np.divide(a, b))\n",
    "print(np.mod(a, b))\n",
    "print(np.power(a, b))"
   ]
  },
  {
   "cell_type": "markdown",
   "id": "62e304b8",
   "metadata": {},
   "source": [
    "### 9.4"
   ]
  },
  {
   "cell_type": "code",
   "execution_count": 318,
   "id": "6e8d4543",
   "metadata": {},
   "outputs": [
    {
     "name": "stdout",
     "output_type": "stream",
     "text": [
      "[0 1 2]\n",
      "[7 5]\n",
      "3.5\n",
      "3.5\n"
     ]
    }
   ],
   "source": [
    "a = np.array([[6, 7, 2], [0, 1, 5]])\n",
    "\n",
    "print(np.amin(a, 0))\n",
    "print(np.amax(a, 1))\n",
    "print(np.median(a))\n",
    "print(np.mean(a))"
   ]
  },
  {
   "cell_type": "markdown",
   "id": "ef3bc1d3",
   "metadata": {},
   "source": [
    "### 9.5"
   ]
  },
  {
   "cell_type": "code",
   "execution_count": 320,
   "id": "8cc8f384",
   "metadata": {},
   "outputs": [
    {
     "name": "stdout",
     "output_type": "stream",
     "text": [
      "[[1 3 5]\n",
      " [2 7 8]]\n",
      "[[2 5 1]\n",
      " [3 8 7]]\n"
     ]
    }
   ],
   "source": [
    "a = np.array([[3, 5, 1], [2, 8, 7]])\n",
    "\n",
    "b = np.sort(a)\n",
    "\n",
    "c = np.sort(a, axis=0)\n",
    "\n",
    "print(b)\n",
    "\n",
    "print(c)"
   ]
  },
  {
   "cell_type": "markdown",
   "id": "bfd7c344",
   "metadata": {},
   "source": [
    "# 02 Pandas"
   ]
  },
  {
   "cell_type": "code",
   "execution_count": 322,
   "id": "ad903aa4",
   "metadata": {},
   "outputs": [],
   "source": [
    "import numpy as np\n",
    "import pandas as pd"
   ]
  },
  {
   "cell_type": "markdown",
   "id": "cbc07503",
   "metadata": {},
   "source": [
    "## 1 Series"
   ]
  },
  {
   "cell_type": "code",
   "execution_count": 326,
   "id": "f9e946cc",
   "metadata": {},
   "outputs": [
    {
     "name": "stdout",
     "output_type": "stream",
     "text": [
      "0    a\n",
      "1    b\n",
      "2    c\n",
      "3    d\n",
      "dtype: object\n"
     ]
    }
   ],
   "source": [
    "s = pd.Series(np.array(['a', 'b', 'c', 'd']))\n",
    "\n",
    "print(s)"
   ]
  },
  {
   "cell_type": "markdown",
   "id": "cd8ab8ec",
   "metadata": {},
   "source": [
    "# 03 Matplotlib"
   ]
  },
  {
   "cell_type": "code",
   "execution_count": 329,
   "id": "d1b27fd2",
   "metadata": {},
   "outputs": [],
   "source": [
    "import matplotlib.pyplot as plt"
   ]
  },
  {
   "cell_type": "code",
   "execution_count": 334,
   "id": "7d277fbb",
   "metadata": {},
   "outputs": [
    {
     "data": {
      "image/png": "[encoded data removed]",
      "text/plain": [
       "<Figure size 432x288 with 1 Axes>"
      ]
     },
     "metadata": {},
     "output_type": "display_data"
    }
   ],
   "source": [
    "x = np.arange(0, 3 * np.pi, 0.1)\n",
    "y = np.sin(x)\n",
    "\n",
    "plt.plot(x, y)\n",
    "\n",
    "plt.show()"
   ]
  },
  {
   "cell_type": "code",
   "execution_count": 331,
   "id": "b6be7d0d",
   "metadata": {},
   "outputs": [
    {
     "data": {
      "text/plain": [
       "95"
      ]
     },
     "execution_count": 331,
     "metadata": {},
     "output_type": "execute_result"
    }
   ],
   "source": [
    "len(x)"
   ]
  },
  {
   "cell_type": "code",
   "execution_count": 332,
   "id": "cb51475b",
   "metadata": {},
   "outputs": [
    {
     "data": {
      "text/plain": [
       "['Solarize_Light2',\n",
       " '_classic_test_patch',\n",
       " '_mpl-gallery',\n",
       " '_mpl-gallery-nogrid',\n",
       " 'bmh',\n",
       " 'classic',\n",
       " 'dark_background',\n",
       " 'fast',\n",
       " 'fivethirtyeight',\n",
       " 'ggplot',\n",
       " 'grayscale',\n",
       " 'seaborn',\n",
       " 'seaborn-bright',\n",
       " 'seaborn-colorblind',\n",
       " 'seaborn-dark',\n",
       " 'seaborn-dark-palette',\n",
       " 'seaborn-darkgrid',\n",
       " 'seaborn-deep',\n",
       " 'seaborn-muted',\n",
       " 'seaborn-notebook',\n",
       " 'seaborn-paper',\n",
       " 'seaborn-pastel',\n",
       " 'seaborn-poster',\n",
       " 'seaborn-talk',\n",
       " 'seaborn-ticks',\n",
       " 'seaborn-white',\n",
       " 'seaborn-whitegrid',\n",
       " 'tableau-colorblind10']"
      ]
     },
     "execution_count": 332,
     "metadata": {},
     "output_type": "execute_result"
    }
   ],
   "source": [
    "plt.style.available"
   ]
  },
  {
   "cell_type": "code",
   "execution_count": 333,
   "id": "de95681b",
   "metadata": {},
   "outputs": [],
   "source": [
    "plt.style.use('seaborn-darkgrid')"
   ]
  },
  {
   "cell_type": "code",
   "execution_count": 355,
   "id": "248d3f01",
   "metadata": {},
   "outputs": [
    {
     "data": {
      "image/png": "[encoded data removed]",
      "text/plain": [
       "<Figure size 432x288 with 2 Axes>"
      ]
     },
     "metadata": {},
     "output_type": "display_data"
    }
   ],
   "source": [
    "plt.style.use('seaborn-whitegrid')\n",
    "\n",
    "x = np.arange(0, 3 * np.pi, 0.1)\n",
    "y_sin = np.sin(x)\n",
    "y_cos = np.cos(x)\n",
    "\n",
    "plt.subplot(2, 1, 1)\n",
    "plt.plot(x, y_sin)\n",
    "plt.title('Sine')\n",
    "plt.subplot(2, 1, 2)\n",
    "plt.plot(x, y_cos)\n",
    "plt.title('Cosine')\n",
    "\n",
    "plt.show()"
   ]
  },
  {
   "cell_type": "code",
   "execution_count": 362,
   "id": "ca941822",
   "metadata": {},
   "outputs": [
    {
     "data": {
      "image/png": "[encoded data removed]",
      "text/plain": [
       "<Figure size 640x480 with 1 Axes>"
      ]
     },
     "metadata": {},
     "output_type": "display_data"
    }
   ],
   "source": [
    "plt.style.use('seaborn-dark')\n",
    "\n",
    "plt.figure(figsize=(8,6), dpi=80)\n",
    "\n",
    "X = np.linspace(-np.pi, np.pi, 256, endpoint=True)\n",
    "C, S = np.cos(X), np.sin(X)\n",
    "\n",
    "plt.plot(X, C, color=\"blue\", linewidth=2.5, label=\"Blue\", linestyle=\"--\")\n",
    "plt.plot(X, S, color=\"green\", linewidth=1.5, label=\"Green\", linestyle=\"-.\")\n",
    "\n",
    "plt.legend()\n",
    "\n",
    "plt.xlim(-4., 4.)\n",
    "plt.xticks(np.linspace(-4, 4, 9, endpoint=True))\n",
    "plt.ylim(-1., 1.)\n",
    "plt.yticks(np.linspace(-1, 1, 5, endpoint=True))\n",
    "\n",
    "plt.show()"
   ]
  },
  {
   "cell_type": "code",
   "execution_count": 370,
   "id": "e9cd573e",
   "metadata": {},
   "outputs": [
    {
     "name": "stdout",
     "output_type": "stream",
     "text": [
      "[18  1  6 18 13 10  8  9  5 18  4  5  5  3  9]\n",
      "[ 0 13 15  7 19  6 17  7 12 18  4 17  9 10 18]\n"
     ]
    },
    {
     "data": {
      "image/png": "[encoded data removed]",
      "text/plain": [
       "<Figure size 432x288 with 1 Axes>"
      ]
     },
     "metadata": {},
     "output_type": "display_data"
    }
   ],
   "source": [
    "a = np.random.randint(0, 20, 15)\n",
    "b = np.random.randint(0, 20, 15)\n",
    "\n",
    "print(a)\n",
    "print(b)\n",
    "\n",
    "plt.scatter(a, b, c='red', s=1000, marker='o')\n",
    "plt.show()"
   ]
  },
  {
   "cell_type": "code",
   "execution_count": 371,
   "id": "1d2ec23b",
   "metadata": {},
   "outputs": [
    {
     "data": {
      "image/png": "[encoded data removed]",
      "text/plain": [
       "<Figure size 600x400 with 1 Axes>"
      ]
     },
     "metadata": {},
     "output_type": "display_data"
    }
   ],
   "source": [
    "level = ['Excellent', 'good', 'soso']\n",
    "\n",
    "x = range(len(level))\n",
    "y = [1, 3, 2]\n",
    "\n",
    "plt.figure(dpi=100)\n",
    "\n",
    "plt.bar(x, y, width=.5, color=['b', 'r', 'g'])\n",
    "plt.xticks(x, level)\n",
    "\n",
    "plt.grid(linestyle='--', alpha=1)\n",
    "plt.show()"
   ]
  },
  {
   "cell_type": "code",
   "execution_count": 374,
   "id": "8e7b8230",
   "metadata": {},
   "outputs": [
    {
     "name": "stdout",
     "output_type": "stream",
     "text": [
      "[ 2  6  4 18  6 25 18 10 25 20  8  9 13 18 12 16 21  6 28 20 27 12 17 26\n",
      "  9  1 16  4 26 20 18  0 12 23 18  1 18  8 23 29 25 19  7 16  8  1 16  7\n",
      " 11 25  6 27  8  2 19  8 15 21  9 15  2 22 16 18  7 18 28  8  6  9  4  6\n",
      "  5 11 10 25  7 17 26 12  7 22  3 16 23 14 29 14  7  0]\n"
     ]
    },
    {
     "data": {
      "image/png": "[encoded data removed]",
      "text/plain": [
       "<Figure size 600x400 with 1 Axes>"
      ]
     },
     "metadata": {},
     "output_type": "display_data"
    }
   ],
   "source": [
    "t = np.random.randint(0, 30, 90)\n",
    "print(t)\n",
    "\n",
    "plt.figure(dpi=100)\n",
    "\n",
    "group_num = 14\n",
    "\n",
    "plt.hist(t, facecolor='red', edgecolor='green', bins=group_num, alpha=.5)\n",
    "plt.xticks(range(min(t), max(t))[::2])\n",
    "plt.grid(linestyle='--', alpha=.5)\n",
    "\n",
    "plt.show()"
   ]
  },
  {
   "cell_type": "markdown",
   "id": "42344a53",
   "metadata": {},
   "source": [
    "# 04 SciPy"
   ]
  },
  {
   "cell_type": "code",
   "execution_count": 377,
   "id": "b6e85b49",
   "metadata": {},
   "outputs": [],
   "source": [
    "from scipy.constants import *"
   ]
  },
  {
   "cell_type": "code",
   "execution_count": 380,
   "id": "c77f25f1",
   "metadata": {},
   "outputs": [
    {
     "name": "stdout",
     "output_type": "stream",
     "text": [
      "3.141592653589793\n",
      "299792458.0\n",
      "299792458.0\n",
      "6.62607015e-34\n",
      "6.6743e-11\n",
      "9.1093837015e-31\n"
     ]
    }
   ],
   "source": [
    "print(pi)\n",
    "print(c)\n",
    "print(speed_of_light)\n",
    "print(h)\n",
    "print(G)\n",
    "print(electron_mass)"
   ]
  },
  {
   "cell_type": "code",
   "execution_count": 381,
   "id": "6532be78",
   "metadata": {},
   "outputs": [
    {
     "name": "stdout",
     "output_type": "stream",
     "text": [
      "[ 1.00000000e+00+0.00000000e+00j  7.07106781e-01+7.07106781e-01j\n",
      "  6.12323400e-17+1.00000000e+00j -7.07106781e-01+7.07106781e-01j\n",
      " -1.00000000e+00+1.22464680e-16j -7.07106781e-01-7.07106781e-01j\n",
      " -1.83697020e-16-1.00000000e+00j  7.07106781e-01-7.07106781e-01j]\n",
      "[-3.44509285e-16+1.14423775e-17j  8.00000000e+00-9.95431023e-16j\n",
      "  2.33486982e-16+1.22464680e-16j  0.00000000e+00+1.22464680e-16j\n",
      "  9.95799250e-17+2.33486982e-16j -8.88178420e-16+2.60642944e-16j\n",
      "  1.14423775e-17+1.22464680e-16j  0.00000000e+00+1.22464680e-16j]\n"
     ]
    }
   ],
   "source": [
    "import scipy.fft\n",
    "\n",
    "a = np.exp(2j * np.pi * np.arange(8) / 8)\n",
    "\n",
    "print(a)\n",
    "\n",
    "b = scipy.fft.fft(a)\n",
    "\n",
    "b"
   ]
  }
 ],
 "metadata": {
  "kernelspec": {
   "display_name": "Python 3 (ipykernel)",
   "language": "python",
   "name": "python3"
  },
  "language_info": {
   "codemirror_mode": {
    "name": "ipython",
    "version": 3
   },
   "file_extension": ".py",
   "mimetype": "text/x-python",
   "name": "python",
   "nbconvert_exporter": "python",
   "pygments_lexer": "ipython3",
   "version": "3.9.9"
  }
 },
 "nbformat": 4,
 "nbformat_minor": 5
}
